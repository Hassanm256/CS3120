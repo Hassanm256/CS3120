{
  "nbformat": 4,
  "nbformat_minor": 0,
  "metadata": {
    "colab": {
      "provenance": [],
      "authorship_tag": "ABX9TyNZctOnlBUtfp9pwTK3yPA1",
      "include_colab_link": true
    },
    "kernelspec": {
      "name": "python3",
      "display_name": "Python 3"
    },
    "language_info": {
      "name": "python"
    }
  },
  "cells": [
    {
      "cell_type": "markdown",
      "metadata": {
        "id": "view-in-github",
        "colab_type": "text"
      },
      "source": [
        "<a href=\"https://colab.research.google.com/github/Hassanm256/CS3120/blob/main/HR_employee_analysis.ipynb\" target=\"_parent\"><img src=\"https://colab.research.google.com/assets/colab-badge.svg\" alt=\"Open In Colab\"/></a>"
      ]
    },
    {
      "cell_type": "code",
      "execution_count": 1,
      "metadata": {
        "colab": {
          "base_uri": "https://localhost:8080/"
        },
        "id": "4wHPKgdFLScw",
        "outputId": "c3374783-80cb-4e01-a38f-5653aa22c958"
      },
      "outputs": [
        {
          "output_type": "stream",
          "name": "stdout",
          "text": [
            "Creating employee dataset...\n",
            "Dataset created with 1510 records and 15 features\n",
            "\n",
            "============================================================\n",
            "CHECKPOINT 1: What do we see?\n",
            "============================================================\n",
            "\n",
            "First 5 rows:\n",
            "  EmployeeID  Age  Gender       Department       JobRole  \\\n",
            "0    EMP0001   42    Male      Engineering  Sr Developer   \n",
            "1    EMP0002   36       M            SALES     Developer   \n",
            "2    EMP0003   44  Female  Human Resources   Sr. Manager   \n",
            "3    EMP0004   53    Male        Marketing       Analyst   \n",
            "4    EMP0005   35    Male            sales     Developer   \n",
            "\n",
            "                    HireDate        Salary  StockOptions PerformanceRating  \\\n",
            "0 2019-05-05 20:57:21.428816  94610.618149           0.0                 4   \n",
            "1 2019-12-07 20:57:21.428854  57348.750330           0.0              Good   \n",
            "2 2022-05-15 20:57:21.428865  85887.231020           2.0                 3   \n",
            "3 2020-10-30 20:57:21.428872  51863.147730           0.0                 1   \n",
            "4 2021-10-11 20:57:21.428879  65212.995120           0.0                 4   \n",
            "\n",
            "   ProjectsCompleted  WorkHoursPerWeek BusinessTravel  DistanceFromHome  \\\n",
            "0                  2         41.658745             No         20.742042   \n",
            "1                  4         38.012199      No Travel         11.046989   \n",
            "2                  4         59.731510      No Travel         12.013121   \n",
            "3                  3         56.367694      No Travel         13.201725   \n",
            "4                  3         37.320702         Rarely         20.401031   \n",
            "\n",
            "   JobSatisfaction Attrition  \n",
            "0             50.0         N  \n",
            "1             30.0       Yes  \n",
            "2             30.0        No  \n",
            "3             40.0        No  \n",
            "4              3.0         N  \n",
            "\n",
            "Data types:\n",
            "EmployeeID                   object\n",
            "Age                           int64\n",
            "Gender                       object\n",
            "Department                   object\n",
            "JobRole                      object\n",
            "HireDate             datetime64[ns]\n",
            "Salary                      float64\n",
            "StockOptions                float64\n",
            "PerformanceRating            object\n",
            "ProjectsCompleted             int64\n",
            "WorkHoursPerWeek            float64\n",
            "BusinessTravel               object\n",
            "DistanceFromHome            float64\n",
            "JobSatisfaction             float64\n",
            "Attrition                    object\n",
            "dtype: object\n",
            "\n",
            "Basic info:\n",
            "Shape: (1510, 15)\n",
            "Memory usage: 0.72 MB\n",
            "\n",
            "📊 MENTOR QUESTION 1: Looking at this data, what issues do you notice?\n",
            "Before we continue, try to identify at least 3 data quality issues.\n",
            "Hint: Look at Gender, Department, PerformanceRating, and Attrition columns...\n",
            "\n",
            "Think about:\n",
            "- Inconsistent formatting\n",
            "- Mixed data types\n",
            "- Potential duplicates\n",
            "- Missing values\n",
            "\n",
            "----------------------------------------\n",
            "Example - Gender column values:\n",
            "Gender\n",
            "Female    611\n",
            "Male      607\n",
            "M          80\n",
            "nan        78\n",
            "F          75\n",
            "Other      59\n",
            "Name: count, dtype: int64\n",
            "\n",
            "Example - Attrition column values:\n",
            "Attrition\n",
            "No     1050\n",
            "Yes     170\n",
            "N       143\n",
            "Y        73\n",
            "1        38\n",
            "0        36\n",
            "Name: count, dtype: int64\n"
          ]
        }
      ],
      "source": [
        "# EDA & Preprocessing: Employee Attrition Analysis\n",
        "# Intermediate Level - Industry Best Practices\n",
        "\n",
        "import pandas as pd\n",
        "import numpy as np\n",
        "import matplotlib.pyplot as plt\n",
        "import seaborn as sns\n",
        "from datetime import datetime, timedelta\n",
        "import warnings\n",
        "warnings.filterwarnings('ignore')\n",
        "\n",
        "# Configure visualization defaults\n",
        "plt.style.use('seaborn-v0_8-darkgrid')\n",
        "sns.set_palette(\"husl\")\n",
        "\n",
        "# ============================================\n",
        "# STEP 0: Create Realistic Employee Dataset\n",
        "# ============================================\n",
        "\n",
        "def create_employee_dataset(n_employees=1500):\n",
        "    \"\"\"\n",
        "    Creates a realistic employee dataset with common data quality issues\n",
        "    \"\"\"\n",
        "    np.random.seed(42)\n",
        "\n",
        "    # Generate employee data with realistic patterns\n",
        "    data = {\n",
        "        'EmployeeID': [f'EMP{str(i).zfill(4)}' for i in range(1, n_employees+1)],\n",
        "\n",
        "        # Demographics\n",
        "        'Age': np.random.normal(38, 10, n_employees).astype(int),\n",
        "        'Gender': np.random.choice(['Male', 'Female', 'M', 'F', 'Other', np.nan],\n",
        "                                  n_employees, p=[0.4, 0.4, 0.05, 0.05, 0.05, 0.05]),\n",
        "\n",
        "        # Job Info - with inconsistent entries\n",
        "        'Department': np.random.choice(['Sales', 'sales', 'SALES', 'Engineering', 'engineering',\n",
        "                                       'HR', 'Human Resources', 'Marketing', 'Mktg', np.nan],\n",
        "                                      n_employees),\n",
        "        'JobRole': np.random.choice(['Manager', 'Senior Manager', 'Sr. Manager', 'Analyst',\n",
        "                                    'Senior Analyst', 'Developer', 'Sr Developer', np.nan],\n",
        "                                   n_employees),\n",
        "\n",
        "        # Dates with various formats\n",
        "        'HireDate': [datetime.now() - timedelta(days=np.random.randint(1, 3650))\n",
        "                    for _ in range(n_employees)],\n",
        "\n",
        "        # Compensation - different scales and missing patterns\n",
        "        'Salary': np.random.lognormal(11, 0.5, n_employees),  # Log-normal distribution\n",
        "        'StockOptions': np.random.choice([0, 1, 2, 3, np.nan], n_employees,\n",
        "                                        p=[0.4, 0.25, 0.15, 0.1, 0.1]),\n",
        "\n",
        "        # Performance metrics\n",
        "        'PerformanceRating': np.random.choice([1, 2, 3, 4, 5, '3', '4', 'Good', 'Excellent', np.nan],\n",
        "                                            n_employees),\n",
        "        'ProjectsCompleted': np.random.poisson(5, n_employees),\n",
        "\n",
        "        # Work-life balance indicators\n",
        "        'WorkHoursPerWeek': np.random.normal(45, 8, n_employees),\n",
        "        'BusinessTravel': np.random.choice(['No', 'Rarely', 'Frequently', 'No Travel', np.nan],\n",
        "                                         n_employees),\n",
        "        'DistanceFromHome': np.abs(np.random.normal(15, 10, n_employees)),\n",
        "\n",
        "        # Satisfaction scores (different scales mixed)\n",
        "        'JobSatisfaction': np.random.choice([1, 2, 3, 4, 5,  # 1-5 scale\n",
        "                                           10, 20, 30, 40, 50,  # 10-50 scale\n",
        "                                           np.nan], n_employees),\n",
        "\n",
        "        # Target variable\n",
        "        'Attrition': np.random.choice(['Yes', 'No', 'Y', 'N', 1, 0], n_employees,\n",
        "                                     p=[0.1, 0.7, 0.05, 0.1, 0.025, 0.025])\n",
        "    }\n",
        "\n",
        "    df = pd.DataFrame(data)\n",
        "\n",
        "    # Add realistic missing patterns\n",
        "    # Young employees less likely to have stock options\n",
        "    mask = (df['Age'] < 25) & (np.random.random(n_employees) < 0.6)\n",
        "    df.loc[mask, 'StockOptions'] = np.nan\n",
        "\n",
        "    # High performers might not report satisfaction (too busy)\n",
        "    mask = (df['PerformanceRating'].isin(['5', 'Excellent'])) & (np.random.random(n_employees) < 0.3)\n",
        "    df.loc[mask, 'JobSatisfaction'] = np.nan\n",
        "\n",
        "    # Add some outliers\n",
        "    df.loc[np.random.choice(df.index, 3), 'Age'] = [65, 70, 18]\n",
        "    df.loc[np.random.choice(df.index, 5), 'WorkHoursPerWeek'] = [80, 85, 90, 10, 5]\n",
        "\n",
        "    # Add duplicates\n",
        "    dup_indices = np.random.choice(df.index, 10)\n",
        "    df = pd.concat([df, df.loc[dup_indices]], ignore_index=True)\n",
        "\n",
        "    return df\n",
        "\n",
        "# Create the dataset\n",
        "print(\"Creating employee dataset...\")\n",
        "df = create_employee_dataset()\n",
        "print(f\"Dataset created with {len(df)} records and {len(df.columns)} features\")\n",
        "\n",
        "# ============================================\n",
        "# CHECKPOINT 1: Initial Data Inspection\n",
        "# ============================================\n",
        "\n",
        "print(\"\\n\" + \"=\"*60)\n",
        "print(\"CHECKPOINT 1: What do we see?\")\n",
        "print(\"=\"*60)\n",
        "\n",
        "# Quick look at the data\n",
        "print(\"\\nFirst 5 rows:\")\n",
        "print(df.head())\n",
        "\n",
        "print(\"\\nData types:\")\n",
        "print(df.dtypes)\n",
        "\n",
        "print(\"\\nBasic info:\")\n",
        "print(f\"Shape: {df.shape}\")\n",
        "print(f\"Memory usage: {df.memory_usage(deep=True).sum() / 1024**2:.2f} MB\")\n",
        "\n",
        "# ============================================\n",
        "# 💡 MENTOR QUESTION 1\n",
        "# ============================================\n",
        "print(\"\\n\" + \"📊 MENTOR QUESTION 1: Looking at this data, what issues do you notice?\")\n",
        "print(\"Before we continue, try to identify at least 3 data quality issues.\")\n",
        "print(\"Hint: Look at Gender, Department, PerformanceRating, and Attrition columns...\")\n",
        "print(\"\\nThink about:\")\n",
        "print(\"- Inconsistent formatting\")\n",
        "print(\"- Mixed data types\")\n",
        "print(\"- Potential duplicates\")\n",
        "print(\"- Missing values\")\n",
        "\n",
        "# Let me show you what to look for:\n",
        "print(\"\\n\" + \"-\"*40)\n",
        "print(\"Example - Gender column values:\")\n",
        "print(df['Gender'].value_counts(dropna=False))\n",
        "\n",
        "print(\"\\nExample - Attrition column values:\")\n",
        "print(df['Attrition'].value_counts(dropna=False))"
      ]
    },
    {
      "cell_type": "code",
      "source": [
        "# Create a copy first (why is this important?)\n",
        "df_clean = df.copy()\n",
        "\n",
        "# Your code here to fix Gender\n",
        "# Hint: Consider using .map() or .replace()"
      ],
      "metadata": {
        "id": "Z2K4WchROiGe"
      },
      "execution_count": 2,
      "outputs": []
    },
    {
      "cell_type": "code",
      "source": [
        "df['Gender'].value_counts(dropna=False)"
      ],
      "metadata": {
        "colab": {
          "base_uri": "https://localhost:8080/",
          "height": 303
        },
        "id": "W3xsDlT_TZhY",
        "outputId": "09c165d1-4776-4510-833f-742d897e0682"
      },
      "execution_count": 3,
      "outputs": [
        {
          "output_type": "execute_result",
          "data": {
            "text/plain": [
              "Gender\n",
              "Female    611\n",
              "Male      607\n",
              "M          80\n",
              "nan        78\n",
              "F          75\n",
              "Other      59\n",
              "Name: count, dtype: int64"
            ],
            "text/html": [
              "<div>\n",
              "<style scoped>\n",
              "    .dataframe tbody tr th:only-of-type {\n",
              "        vertical-align: middle;\n",
              "    }\n",
              "\n",
              "    .dataframe tbody tr th {\n",
              "        vertical-align: top;\n",
              "    }\n",
              "\n",
              "    .dataframe thead th {\n",
              "        text-align: right;\n",
              "    }\n",
              "</style>\n",
              "<table border=\"1\" class=\"dataframe\">\n",
              "  <thead>\n",
              "    <tr style=\"text-align: right;\">\n",
              "      <th></th>\n",
              "      <th>count</th>\n",
              "    </tr>\n",
              "    <tr>\n",
              "      <th>Gender</th>\n",
              "      <th></th>\n",
              "    </tr>\n",
              "  </thead>\n",
              "  <tbody>\n",
              "    <tr>\n",
              "      <th>Female</th>\n",
              "      <td>611</td>\n",
              "    </tr>\n",
              "    <tr>\n",
              "      <th>Male</th>\n",
              "      <td>607</td>\n",
              "    </tr>\n",
              "    <tr>\n",
              "      <th>M</th>\n",
              "      <td>80</td>\n",
              "    </tr>\n",
              "    <tr>\n",
              "      <th>nan</th>\n",
              "      <td>78</td>\n",
              "    </tr>\n",
              "    <tr>\n",
              "      <th>F</th>\n",
              "      <td>75</td>\n",
              "    </tr>\n",
              "    <tr>\n",
              "      <th>Other</th>\n",
              "      <td>59</td>\n",
              "    </tr>\n",
              "  </tbody>\n",
              "</table>\n",
              "</div><br><label><b>dtype:</b> int64</label>"
            ]
          },
          "metadata": {},
          "execution_count": 3
        }
      ]
    },
    {
      "cell_type": "code",
      "source": [
        "Gender_mapping = { 'M': 'Male',\n",
        "                  'F': 'Female',\n",
        "                   }\n",
        "df['Gender'] = df['Gender'].replace(Gender_mapping)"
      ],
      "metadata": {
        "id": "FFRzLrc1VmBz"
      },
      "execution_count": 4,
      "outputs": []
    },
    {
      "cell_type": "code",
      "source": [
        "df['Gender'].value_counts(dropna=False)"
      ],
      "metadata": {
        "colab": {
          "base_uri": "https://localhost:8080/",
          "height": 240
        },
        "id": "PqgIarbfWgsb",
        "outputId": "bf8a5dfd-0777-4f05-eb82-408d7b06f7d6"
      },
      "execution_count": 5,
      "outputs": [
        {
          "output_type": "execute_result",
          "data": {
            "text/plain": [
              "Gender\n",
              "Male      687\n",
              "Female    686\n",
              "nan        78\n",
              "Other      59\n",
              "Name: count, dtype: int64"
            ],
            "text/html": [
              "<div>\n",
              "<style scoped>\n",
              "    .dataframe tbody tr th:only-of-type {\n",
              "        vertical-align: middle;\n",
              "    }\n",
              "\n",
              "    .dataframe tbody tr th {\n",
              "        vertical-align: top;\n",
              "    }\n",
              "\n",
              "    .dataframe thead th {\n",
              "        text-align: right;\n",
              "    }\n",
              "</style>\n",
              "<table border=\"1\" class=\"dataframe\">\n",
              "  <thead>\n",
              "    <tr style=\"text-align: right;\">\n",
              "      <th></th>\n",
              "      <th>count</th>\n",
              "    </tr>\n",
              "    <tr>\n",
              "      <th>Gender</th>\n",
              "      <th></th>\n",
              "    </tr>\n",
              "  </thead>\n",
              "  <tbody>\n",
              "    <tr>\n",
              "      <th>Male</th>\n",
              "      <td>687</td>\n",
              "    </tr>\n",
              "    <tr>\n",
              "      <th>Female</th>\n",
              "      <td>686</td>\n",
              "    </tr>\n",
              "    <tr>\n",
              "      <th>nan</th>\n",
              "      <td>78</td>\n",
              "    </tr>\n",
              "    <tr>\n",
              "      <th>Other</th>\n",
              "      <td>59</td>\n",
              "    </tr>\n",
              "  </tbody>\n",
              "</table>\n",
              "</div><br><label><b>dtype:</b> int64</label>"
            ]
          },
          "metadata": {},
          "execution_count": 5
        }
      ]
    },
    {
      "cell_type": "code",
      "source": [
        "df[df['Gender'] == 'Other'].head()"
      ],
      "metadata": {
        "colab": {
          "base_uri": "https://localhost:8080/",
          "height": 312
        },
        "id": "gnWbl67dXQVX",
        "outputId": "dabf2934-feba-446c-c57c-78d61c16f798"
      },
      "execution_count": 6,
      "outputs": [
        {
          "output_type": "execute_result",
          "data": {
            "text/plain": [
              "   EmployeeID  Age Gender       Department         JobRole  \\\n",
              "19    EMP0020   23  Other  Human Resources       Developer   \n",
              "39    EMP0040   39  Other               HR             nan   \n",
              "66    EMP0067   37  Other      Engineering       Developer   \n",
              "76    EMP0077   38  Other      engineering       Developer   \n",
              "86    EMP0087   47  Other  Human Resources  Senior Manager   \n",
              "\n",
              "                     HireDate        Salary  StockOptions PerformanceRating  \\\n",
              "19 2022-06-11 20:57:21.428983  62096.242974           0.0                 2   \n",
              "39 2024-05-25 20:57:21.429129  30527.868294           NaN                 5   \n",
              "66 2022-10-29 20:57:21.429332  53099.911629           NaN                 3   \n",
              "76 2021-06-01 20:57:21.429394  76005.590353           0.0                 4   \n",
              "86 2016-12-23 20:57:21.429460  66339.062987           1.0                 1   \n",
              "\n",
              "    ProjectsCompleted  WorkHoursPerWeek BusinessTravel  DistanceFromHome  \\\n",
              "19                  6         45.851635      No Travel         11.663004   \n",
              "39                  5         48.558004             No          2.359076   \n",
              "66                  5         42.857967     Frequently         22.513367   \n",
              "76                  5         48.324081      No Travel         13.173489   \n",
              "86                  3         43.253567             No          2.329488   \n",
              "\n",
              "    JobSatisfaction Attrition  \n",
              "19             10.0         1  \n",
              "39              NaN        No  \n",
              "66             50.0         N  \n",
              "76             40.0        No  \n",
              "86              2.0        No  "
            ],
            "text/html": [
              "\n",
              "  <div id=\"df-42d5597b-e45e-4c3f-8747-37ea2686b429\" class=\"colab-df-container\">\n",
              "    <div>\n",
              "<style scoped>\n",
              "    .dataframe tbody tr th:only-of-type {\n",
              "        vertical-align: middle;\n",
              "    }\n",
              "\n",
              "    .dataframe tbody tr th {\n",
              "        vertical-align: top;\n",
              "    }\n",
              "\n",
              "    .dataframe thead th {\n",
              "        text-align: right;\n",
              "    }\n",
              "</style>\n",
              "<table border=\"1\" class=\"dataframe\">\n",
              "  <thead>\n",
              "    <tr style=\"text-align: right;\">\n",
              "      <th></th>\n",
              "      <th>EmployeeID</th>\n",
              "      <th>Age</th>\n",
              "      <th>Gender</th>\n",
              "      <th>Department</th>\n",
              "      <th>JobRole</th>\n",
              "      <th>HireDate</th>\n",
              "      <th>Salary</th>\n",
              "      <th>StockOptions</th>\n",
              "      <th>PerformanceRating</th>\n",
              "      <th>ProjectsCompleted</th>\n",
              "      <th>WorkHoursPerWeek</th>\n",
              "      <th>BusinessTravel</th>\n",
              "      <th>DistanceFromHome</th>\n",
              "      <th>JobSatisfaction</th>\n",
              "      <th>Attrition</th>\n",
              "    </tr>\n",
              "  </thead>\n",
              "  <tbody>\n",
              "    <tr>\n",
              "      <th>19</th>\n",
              "      <td>EMP0020</td>\n",
              "      <td>23</td>\n",
              "      <td>Other</td>\n",
              "      <td>Human Resources</td>\n",
              "      <td>Developer</td>\n",
              "      <td>2022-06-11 20:57:21.428983</td>\n",
              "      <td>62096.242974</td>\n",
              "      <td>0.0</td>\n",
              "      <td>2</td>\n",
              "      <td>6</td>\n",
              "      <td>45.851635</td>\n",
              "      <td>No Travel</td>\n",
              "      <td>11.663004</td>\n",
              "      <td>10.0</td>\n",
              "      <td>1</td>\n",
              "    </tr>\n",
              "    <tr>\n",
              "      <th>39</th>\n",
              "      <td>EMP0040</td>\n",
              "      <td>39</td>\n",
              "      <td>Other</td>\n",
              "      <td>HR</td>\n",
              "      <td>nan</td>\n",
              "      <td>2024-05-25 20:57:21.429129</td>\n",
              "      <td>30527.868294</td>\n",
              "      <td>NaN</td>\n",
              "      <td>5</td>\n",
              "      <td>5</td>\n",
              "      <td>48.558004</td>\n",
              "      <td>No</td>\n",
              "      <td>2.359076</td>\n",
              "      <td>NaN</td>\n",
              "      <td>No</td>\n",
              "    </tr>\n",
              "    <tr>\n",
              "      <th>66</th>\n",
              "      <td>EMP0067</td>\n",
              "      <td>37</td>\n",
              "      <td>Other</td>\n",
              "      <td>Engineering</td>\n",
              "      <td>Developer</td>\n",
              "      <td>2022-10-29 20:57:21.429332</td>\n",
              "      <td>53099.911629</td>\n",
              "      <td>NaN</td>\n",
              "      <td>3</td>\n",
              "      <td>5</td>\n",
              "      <td>42.857967</td>\n",
              "      <td>Frequently</td>\n",
              "      <td>22.513367</td>\n",
              "      <td>50.0</td>\n",
              "      <td>N</td>\n",
              "    </tr>\n",
              "    <tr>\n",
              "      <th>76</th>\n",
              "      <td>EMP0077</td>\n",
              "      <td>38</td>\n",
              "      <td>Other</td>\n",
              "      <td>engineering</td>\n",
              "      <td>Developer</td>\n",
              "      <td>2021-06-01 20:57:21.429394</td>\n",
              "      <td>76005.590353</td>\n",
              "      <td>0.0</td>\n",
              "      <td>4</td>\n",
              "      <td>5</td>\n",
              "      <td>48.324081</td>\n",
              "      <td>No Travel</td>\n",
              "      <td>13.173489</td>\n",
              "      <td>40.0</td>\n",
              "      <td>No</td>\n",
              "    </tr>\n",
              "    <tr>\n",
              "      <th>86</th>\n",
              "      <td>EMP0087</td>\n",
              "      <td>47</td>\n",
              "      <td>Other</td>\n",
              "      <td>Human Resources</td>\n",
              "      <td>Senior Manager</td>\n",
              "      <td>2016-12-23 20:57:21.429460</td>\n",
              "      <td>66339.062987</td>\n",
              "      <td>1.0</td>\n",
              "      <td>1</td>\n",
              "      <td>3</td>\n",
              "      <td>43.253567</td>\n",
              "      <td>No</td>\n",
              "      <td>2.329488</td>\n",
              "      <td>2.0</td>\n",
              "      <td>No</td>\n",
              "    </tr>\n",
              "  </tbody>\n",
              "</table>\n",
              "</div>\n",
              "    <div class=\"colab-df-buttons\">\n",
              "\n",
              "  <div class=\"colab-df-container\">\n",
              "    <button class=\"colab-df-convert\" onclick=\"convertToInteractive('df-42d5597b-e45e-4c3f-8747-37ea2686b429')\"\n",
              "            title=\"Convert this dataframe to an interactive table.\"\n",
              "            style=\"display:none;\">\n",
              "\n",
              "  <svg xmlns=\"http://www.w3.org/2000/svg\" height=\"24px\" viewBox=\"0 -960 960 960\">\n",
              "    <path d=\"M120-120v-720h720v720H120Zm60-500h600v-160H180v160Zm220 220h160v-160H400v160Zm0 220h160v-160H400v160ZM180-400h160v-160H180v160Zm440 0h160v-160H620v160ZM180-180h160v-160H180v160Zm440 0h160v-160H620v160Z\"/>\n",
              "  </svg>\n",
              "    </button>\n",
              "\n",
              "  <style>\n",
              "    .colab-df-container {\n",
              "      display:flex;\n",
              "      gap: 12px;\n",
              "    }\n",
              "\n",
              "    .colab-df-convert {\n",
              "      background-color: #E8F0FE;\n",
              "      border: none;\n",
              "      border-radius: 50%;\n",
              "      cursor: pointer;\n",
              "      display: none;\n",
              "      fill: #1967D2;\n",
              "      height: 32px;\n",
              "      padding: 0 0 0 0;\n",
              "      width: 32px;\n",
              "    }\n",
              "\n",
              "    .colab-df-convert:hover {\n",
              "      background-color: #E2EBFA;\n",
              "      box-shadow: 0px 1px 2px rgba(60, 64, 67, 0.3), 0px 1px 3px 1px rgba(60, 64, 67, 0.15);\n",
              "      fill: #174EA6;\n",
              "    }\n",
              "\n",
              "    .colab-df-buttons div {\n",
              "      margin-bottom: 4px;\n",
              "    }\n",
              "\n",
              "    [theme=dark] .colab-df-convert {\n",
              "      background-color: #3B4455;\n",
              "      fill: #D2E3FC;\n",
              "    }\n",
              "\n",
              "    [theme=dark] .colab-df-convert:hover {\n",
              "      background-color: #434B5C;\n",
              "      box-shadow: 0px 1px 3px 1px rgba(0, 0, 0, 0.15);\n",
              "      filter: drop-shadow(0px 1px 2px rgba(0, 0, 0, 0.3));\n",
              "      fill: #FFFFFF;\n",
              "    }\n",
              "  </style>\n",
              "\n",
              "    <script>\n",
              "      const buttonEl =\n",
              "        document.querySelector('#df-42d5597b-e45e-4c3f-8747-37ea2686b429 button.colab-df-convert');\n",
              "      buttonEl.style.display =\n",
              "        google.colab.kernel.accessAllowed ? 'block' : 'none';\n",
              "\n",
              "      async function convertToInteractive(key) {\n",
              "        const element = document.querySelector('#df-42d5597b-e45e-4c3f-8747-37ea2686b429');\n",
              "        const dataTable =\n",
              "          await google.colab.kernel.invokeFunction('convertToInteractive',\n",
              "                                                    [key], {});\n",
              "        if (!dataTable) return;\n",
              "\n",
              "        const docLinkHtml = 'Like what you see? Visit the ' +\n",
              "          '<a target=\"_blank\" href=https://colab.research.google.com/notebooks/data_table.ipynb>data table notebook</a>'\n",
              "          + ' to learn more about interactive tables.';\n",
              "        element.innerHTML = '';\n",
              "        dataTable['output_type'] = 'display_data';\n",
              "        await google.colab.output.renderOutput(dataTable, element);\n",
              "        const docLink = document.createElement('div');\n",
              "        docLink.innerHTML = docLinkHtml;\n",
              "        element.appendChild(docLink);\n",
              "      }\n",
              "    </script>\n",
              "  </div>\n",
              "\n",
              "\n",
              "    <div id=\"df-fa378f6c-080c-4640-81d1-93f16f994230\">\n",
              "      <button class=\"colab-df-quickchart\" onclick=\"quickchart('df-fa378f6c-080c-4640-81d1-93f16f994230')\"\n",
              "                title=\"Suggest charts\"\n",
              "                style=\"display:none;\">\n",
              "\n",
              "<svg xmlns=\"http://www.w3.org/2000/svg\" height=\"24px\"viewBox=\"0 0 24 24\"\n",
              "     width=\"24px\">\n",
              "    <g>\n",
              "        <path d=\"M19 3H5c-1.1 0-2 .9-2 2v14c0 1.1.9 2 2 2h14c1.1 0 2-.9 2-2V5c0-1.1-.9-2-2-2zM9 17H7v-7h2v7zm4 0h-2V7h2v10zm4 0h-2v-4h2v4z\"/>\n",
              "    </g>\n",
              "</svg>\n",
              "      </button>\n",
              "\n",
              "<style>\n",
              "  .colab-df-quickchart {\n",
              "      --bg-color: #E8F0FE;\n",
              "      --fill-color: #1967D2;\n",
              "      --hover-bg-color: #E2EBFA;\n",
              "      --hover-fill-color: #174EA6;\n",
              "      --disabled-fill-color: #AAA;\n",
              "      --disabled-bg-color: #DDD;\n",
              "  }\n",
              "\n",
              "  [theme=dark] .colab-df-quickchart {\n",
              "      --bg-color: #3B4455;\n",
              "      --fill-color: #D2E3FC;\n",
              "      --hover-bg-color: #434B5C;\n",
              "      --hover-fill-color: #FFFFFF;\n",
              "      --disabled-bg-color: #3B4455;\n",
              "      --disabled-fill-color: #666;\n",
              "  }\n",
              "\n",
              "  .colab-df-quickchart {\n",
              "    background-color: var(--bg-color);\n",
              "    border: none;\n",
              "    border-radius: 50%;\n",
              "    cursor: pointer;\n",
              "    display: none;\n",
              "    fill: var(--fill-color);\n",
              "    height: 32px;\n",
              "    padding: 0;\n",
              "    width: 32px;\n",
              "  }\n",
              "\n",
              "  .colab-df-quickchart:hover {\n",
              "    background-color: var(--hover-bg-color);\n",
              "    box-shadow: 0 1px 2px rgba(60, 64, 67, 0.3), 0 1px 3px 1px rgba(60, 64, 67, 0.15);\n",
              "    fill: var(--button-hover-fill-color);\n",
              "  }\n",
              "\n",
              "  .colab-df-quickchart-complete:disabled,\n",
              "  .colab-df-quickchart-complete:disabled:hover {\n",
              "    background-color: var(--disabled-bg-color);\n",
              "    fill: var(--disabled-fill-color);\n",
              "    box-shadow: none;\n",
              "  }\n",
              "\n",
              "  .colab-df-spinner {\n",
              "    border: 2px solid var(--fill-color);\n",
              "    border-color: transparent;\n",
              "    border-bottom-color: var(--fill-color);\n",
              "    animation:\n",
              "      spin 1s steps(1) infinite;\n",
              "  }\n",
              "\n",
              "  @keyframes spin {\n",
              "    0% {\n",
              "      border-color: transparent;\n",
              "      border-bottom-color: var(--fill-color);\n",
              "      border-left-color: var(--fill-color);\n",
              "    }\n",
              "    20% {\n",
              "      border-color: transparent;\n",
              "      border-left-color: var(--fill-color);\n",
              "      border-top-color: var(--fill-color);\n",
              "    }\n",
              "    30% {\n",
              "      border-color: transparent;\n",
              "      border-left-color: var(--fill-color);\n",
              "      border-top-color: var(--fill-color);\n",
              "      border-right-color: var(--fill-color);\n",
              "    }\n",
              "    40% {\n",
              "      border-color: transparent;\n",
              "      border-right-color: var(--fill-color);\n",
              "      border-top-color: var(--fill-color);\n",
              "    }\n",
              "    60% {\n",
              "      border-color: transparent;\n",
              "      border-right-color: var(--fill-color);\n",
              "    }\n",
              "    80% {\n",
              "      border-color: transparent;\n",
              "      border-right-color: var(--fill-color);\n",
              "      border-bottom-color: var(--fill-color);\n",
              "    }\n",
              "    90% {\n",
              "      border-color: transparent;\n",
              "      border-bottom-color: var(--fill-color);\n",
              "    }\n",
              "  }\n",
              "</style>\n",
              "\n",
              "      <script>\n",
              "        async function quickchart(key) {\n",
              "          const quickchartButtonEl =\n",
              "            document.querySelector('#' + key + ' button');\n",
              "          quickchartButtonEl.disabled = true;  // To prevent multiple clicks.\n",
              "          quickchartButtonEl.classList.add('colab-df-spinner');\n",
              "          try {\n",
              "            const charts = await google.colab.kernel.invokeFunction(\n",
              "                'suggestCharts', [key], {});\n",
              "          } catch (error) {\n",
              "            console.error('Error during call to suggestCharts:', error);\n",
              "          }\n",
              "          quickchartButtonEl.classList.remove('colab-df-spinner');\n",
              "          quickchartButtonEl.classList.add('colab-df-quickchart-complete');\n",
              "        }\n",
              "        (() => {\n",
              "          let quickchartButtonEl =\n",
              "            document.querySelector('#df-fa378f6c-080c-4640-81d1-93f16f994230 button');\n",
              "          quickchartButtonEl.style.display =\n",
              "            google.colab.kernel.accessAllowed ? 'block' : 'none';\n",
              "        })();\n",
              "      </script>\n",
              "    </div>\n",
              "\n",
              "    </div>\n",
              "  </div>\n"
            ],
            "application/vnd.google.colaboratory.intrinsic+json": {
              "type": "dataframe",
              "summary": "{\n  \"name\": \"df[df['Gender'] == 'Other']\",\n  \"rows\": 5,\n  \"fields\": [\n    {\n      \"column\": \"EmployeeID\",\n      \"properties\": {\n        \"dtype\": \"string\",\n        \"num_unique_values\": 5,\n        \"samples\": [\n          \"EMP0040\",\n          \"EMP0087\",\n          \"EMP0067\"\n        ],\n        \"semantic_type\": \"\",\n        \"description\": \"\"\n      }\n    },\n    {\n      \"column\": \"Age\",\n      \"properties\": {\n        \"dtype\": \"number\",\n        \"std\": 8,\n        \"min\": 23,\n        \"max\": 47,\n        \"num_unique_values\": 5,\n        \"samples\": [\n          39,\n          47,\n          37\n        ],\n        \"semantic_type\": \"\",\n        \"description\": \"\"\n      }\n    },\n    {\n      \"column\": \"Gender\",\n      \"properties\": {\n        \"dtype\": \"category\",\n        \"num_unique_values\": 1,\n        \"samples\": [\n          \"Other\"\n        ],\n        \"semantic_type\": \"\",\n        \"description\": \"\"\n      }\n    },\n    {\n      \"column\": \"Department\",\n      \"properties\": {\n        \"dtype\": \"string\",\n        \"num_unique_values\": 4,\n        \"samples\": [\n          \"HR\"\n        ],\n        \"semantic_type\": \"\",\n        \"description\": \"\"\n      }\n    },\n    {\n      \"column\": \"JobRole\",\n      \"properties\": {\n        \"dtype\": \"string\",\n        \"num_unique_values\": 3,\n        \"samples\": [\n          \"Developer\"\n        ],\n        \"semantic_type\": \"\",\n        \"description\": \"\"\n      }\n    },\n    {\n      \"column\": \"HireDate\",\n      \"properties\": {\n        \"dtype\": \"date\",\n        \"min\": \"2016-12-23 20:57:21.429460\",\n        \"max\": \"2024-05-25 20:57:21.429129\",\n        \"num_unique_values\": 5,\n        \"samples\": [\n          \"2024-05-25 20:57:21.429129\"\n        ],\n        \"semantic_type\": \"\",\n        \"description\": \"\"\n      }\n    },\n    {\n      \"column\": \"Salary\",\n      \"properties\": {\n        \"dtype\": \"number\",\n        \"std\": 17237.33844168029,\n        \"min\": 30527.868293874802,\n        \"max\": 76005.59035326199,\n        \"num_unique_values\": 5,\n        \"samples\": [\n          30527.868293874802\n        ],\n        \"semantic_type\": \"\",\n        \"description\": \"\"\n      }\n    },\n    {\n      \"column\": \"StockOptions\",\n      \"properties\": {\n        \"dtype\": \"number\",\n        \"std\": 0.5773502691896258,\n        \"min\": 0.0,\n        \"max\": 1.0,\n        \"num_unique_values\": 2,\n        \"samples\": [\n          1.0\n        ],\n        \"semantic_type\": \"\",\n        \"description\": \"\"\n      }\n    },\n    {\n      \"column\": \"PerformanceRating\",\n      \"properties\": {\n        \"dtype\": \"string\",\n        \"num_unique_values\": 5,\n        \"samples\": [\n          \"5\"\n        ],\n        \"semantic_type\": \"\",\n        \"description\": \"\"\n      }\n    },\n    {\n      \"column\": \"ProjectsCompleted\",\n      \"properties\": {\n        \"dtype\": \"number\",\n        \"std\": 1,\n        \"min\": 3,\n        \"max\": 6,\n        \"num_unique_values\": 3,\n        \"samples\": [\n          6\n        ],\n        \"semantic_type\": \"\",\n        \"description\": \"\"\n      }\n    },\n    {\n      \"column\": \"WorkHoursPerWeek\",\n      \"properties\": {\n        \"dtype\": \"number\",\n        \"std\": 2.697931172372538,\n        \"min\": 42.85796663963551,\n        \"max\": 48.55800424625172,\n        \"num_unique_values\": 5,\n        \"samples\": [\n          48.55800424625172\n        ],\n        \"semantic_type\": \"\",\n        \"description\": \"\"\n      }\n    },\n    {\n      \"column\": \"BusinessTravel\",\n      \"properties\": {\n        \"dtype\": \"string\",\n        \"num_unique_values\": 3,\n        \"samples\": [\n          \"No Travel\"\n        ],\n        \"semantic_type\": \"\",\n        \"description\": \"\"\n      }\n    },\n    {\n      \"column\": \"DistanceFromHome\",\n      \"properties\": {\n        \"dtype\": \"number\",\n        \"std\": 8.452963919667726,\n        \"min\": 2.3294877098585953,\n        \"max\": 22.513366529246134,\n        \"num_unique_values\": 5,\n        \"samples\": [\n          2.3590760877063346\n        ],\n        \"semantic_type\": \"\",\n        \"description\": \"\"\n      }\n    },\n    {\n      \"column\": \"JobSatisfaction\",\n      \"properties\": {\n        \"dtype\": \"number\",\n        \"std\": 23.115651263447745,\n        \"min\": 2.0,\n        \"max\": 50.0,\n        \"num_unique_values\": 4,\n        \"samples\": [\n          50.0\n        ],\n        \"semantic_type\": \"\",\n        \"description\": \"\"\n      }\n    },\n    {\n      \"column\": \"Attrition\",\n      \"properties\": {\n        \"dtype\": \"string\",\n        \"num_unique_values\": 3,\n        \"samples\": [\n          \"1\"\n        ],\n        \"semantic_type\": \"\",\n        \"description\": \"\"\n      }\n    }\n  ]\n}"
            }
          },
          "metadata": {},
          "execution_count": 6
        }
      ]
    },
    {
      "cell_type": "code",
      "source": [
        "df[df['Gender'] == 'Other']['Department'].value_counts()\n"
      ],
      "metadata": {
        "colab": {
          "base_uri": "https://localhost:8080/",
          "height": 429
        },
        "id": "F7PH9C57X7az",
        "outputId": "802cea9d-ebc4-4fa5-d022-b25990a177d2"
      },
      "execution_count": 10,
      "outputs": [
        {
          "output_type": "execute_result",
          "data": {
            "text/plain": [
              "Department\n",
              "Engineering        11\n",
              "Marketing           8\n",
              "sales               7\n",
              "Human Resources     7\n",
              "HR                  5\n",
              "engineering         5\n",
              "nan                 5\n",
              "Mktg                5\n",
              "Sales               3\n",
              "SALES               3\n",
              "Name: count, dtype: int64"
            ],
            "text/html": [
              "<div>\n",
              "<style scoped>\n",
              "    .dataframe tbody tr th:only-of-type {\n",
              "        vertical-align: middle;\n",
              "    }\n",
              "\n",
              "    .dataframe tbody tr th {\n",
              "        vertical-align: top;\n",
              "    }\n",
              "\n",
              "    .dataframe thead th {\n",
              "        text-align: right;\n",
              "    }\n",
              "</style>\n",
              "<table border=\"1\" class=\"dataframe\">\n",
              "  <thead>\n",
              "    <tr style=\"text-align: right;\">\n",
              "      <th></th>\n",
              "      <th>count</th>\n",
              "    </tr>\n",
              "    <tr>\n",
              "      <th>Department</th>\n",
              "      <th></th>\n",
              "    </tr>\n",
              "  </thead>\n",
              "  <tbody>\n",
              "    <tr>\n",
              "      <th>Engineering</th>\n",
              "      <td>11</td>\n",
              "    </tr>\n",
              "    <tr>\n",
              "      <th>Marketing</th>\n",
              "      <td>8</td>\n",
              "    </tr>\n",
              "    <tr>\n",
              "      <th>sales</th>\n",
              "      <td>7</td>\n",
              "    </tr>\n",
              "    <tr>\n",
              "      <th>Human Resources</th>\n",
              "      <td>7</td>\n",
              "    </tr>\n",
              "    <tr>\n",
              "      <th>HR</th>\n",
              "      <td>5</td>\n",
              "    </tr>\n",
              "    <tr>\n",
              "      <th>engineering</th>\n",
              "      <td>5</td>\n",
              "    </tr>\n",
              "    <tr>\n",
              "      <th>nan</th>\n",
              "      <td>5</td>\n",
              "    </tr>\n",
              "    <tr>\n",
              "      <th>Mktg</th>\n",
              "      <td>5</td>\n",
              "    </tr>\n",
              "    <tr>\n",
              "      <th>Sales</th>\n",
              "      <td>3</td>\n",
              "    </tr>\n",
              "    <tr>\n",
              "      <th>SALES</th>\n",
              "      <td>3</td>\n",
              "    </tr>\n",
              "  </tbody>\n",
              "</table>\n",
              "</div><br><label><b>dtype:</b> int64</label>"
            ]
          },
          "metadata": {},
          "execution_count": 10
        }
      ]
    },
    {
      "cell_type": "code",
      "source": [
        "df[df['Gender'] == 'Other']['Age'].describe()"
      ],
      "metadata": {
        "colab": {
          "base_uri": "https://localhost:8080/",
          "height": 334
        },
        "id": "_14arOHOY_I5",
        "outputId": "b8f7a96c-7a4d-4e61-f4d0-6f7d1a5bcb58"
      },
      "execution_count": 11,
      "outputs": [
        {
          "output_type": "execute_result",
          "data": {
            "text/plain": [
              "count    59.000000\n",
              "mean     36.898305\n",
              "std       7.606021\n",
              "min      21.000000\n",
              "25%      32.000000\n",
              "50%      38.000000\n",
              "75%      41.000000\n",
              "max      58.000000\n",
              "Name: Age, dtype: float64"
            ],
            "text/html": [
              "<div>\n",
              "<style scoped>\n",
              "    .dataframe tbody tr th:only-of-type {\n",
              "        vertical-align: middle;\n",
              "    }\n",
              "\n",
              "    .dataframe tbody tr th {\n",
              "        vertical-align: top;\n",
              "    }\n",
              "\n",
              "    .dataframe thead th {\n",
              "        text-align: right;\n",
              "    }\n",
              "</style>\n",
              "<table border=\"1\" class=\"dataframe\">\n",
              "  <thead>\n",
              "    <tr style=\"text-align: right;\">\n",
              "      <th></th>\n",
              "      <th>Age</th>\n",
              "    </tr>\n",
              "  </thead>\n",
              "  <tbody>\n",
              "    <tr>\n",
              "      <th>count</th>\n",
              "      <td>59.000000</td>\n",
              "    </tr>\n",
              "    <tr>\n",
              "      <th>mean</th>\n",
              "      <td>36.898305</td>\n",
              "    </tr>\n",
              "    <tr>\n",
              "      <th>std</th>\n",
              "      <td>7.606021</td>\n",
              "    </tr>\n",
              "    <tr>\n",
              "      <th>min</th>\n",
              "      <td>21.000000</td>\n",
              "    </tr>\n",
              "    <tr>\n",
              "      <th>25%</th>\n",
              "      <td>32.000000</td>\n",
              "    </tr>\n",
              "    <tr>\n",
              "      <th>50%</th>\n",
              "      <td>38.000000</td>\n",
              "    </tr>\n",
              "    <tr>\n",
              "      <th>75%</th>\n",
              "      <td>41.000000</td>\n",
              "    </tr>\n",
              "    <tr>\n",
              "      <th>max</th>\n",
              "      <td>58.000000</td>\n",
              "    </tr>\n",
              "  </tbody>\n",
              "</table>\n",
              "</div><br><label><b>dtype:</b> float64</label>"
            ]
          },
          "metadata": {},
          "execution_count": 11
        }
      ]
    },
    {
      "cell_type": "code",
      "source": [
        "dept_gender = pd.crosstab(df['Department'], df['Gender'], normalize='index') * 100\n",
        "print(dept_gender)"
      ],
      "metadata": {
        "colab": {
          "base_uri": "https://localhost:8080/"
        },
        "id": "aiIfDlRmY4vD",
        "outputId": "9755e38e-e60e-463e-cad1-14d87bd95e07"
      },
      "execution_count": 12,
      "outputs": [
        {
          "output_type": "stream",
          "name": "stdout",
          "text": [
            "Gender              Female       Male     Other       nan\n",
            "Department                                               \n",
            "Engineering      42.038217  45.859873  7.006369  5.095541\n",
            "HR               46.242775  47.976879  2.890173  2.890173\n",
            "Human Resources  43.859649  45.614035  4.093567  6.432749\n",
            "Marketing        41.935484  47.096774  5.161290  5.806452\n",
            "Mktg             44.520548  45.890411  3.424658  6.164384\n",
            "SALES            49.006623  41.721854  1.986755  7.284768\n",
            "Sales            42.537313  50.746269  2.238806  4.477612\n",
            "engineering      53.435115  41.221374  3.816794  1.526718\n",
            "nan              49.350649  42.207792  3.246753  5.194805\n",
            "sales            42.028986  46.376812  5.072464  6.521739\n"
          ]
        }
      ]
    },
    {
      "cell_type": "code",
      "source": [
        "# Option 1: Keep as is\n",
        "# (no change needed)\n",
        "\n",
        "# Option 2: Rename for clarity\n",
        "df['Gender'] = df['Gender'].replace({'Other': 'Non-binary/Other'})"
      ],
      "metadata": {
        "id": "Ye4-DAZ7a63k"
      },
      "execution_count": 13,
      "outputs": []
    },
    {
      "cell_type": "code",
      "source": [
        "#fill missing values with Unknown\n",
        "df['Gender'].fillna('Unkown')\n",
        "df['Gender'].value_counts()"
      ],
      "metadata": {
        "colab": {
          "base_uri": "https://localhost:8080/",
          "height": 240
        },
        "id": "mrhHTIKjbobk",
        "outputId": "1580a859-de11-4635-bb96-ee35b5d9f44c"
      },
      "execution_count": 19,
      "outputs": [
        {
          "output_type": "execute_result",
          "data": {
            "text/plain": [
              "Gender\n",
              "Male                687\n",
              "Female              686\n",
              "nan                  78\n",
              "Non-binary/Other     59\n",
              "Name: count, dtype: int64"
            ],
            "text/html": [
              "<div>\n",
              "<style scoped>\n",
              "    .dataframe tbody tr th:only-of-type {\n",
              "        vertical-align: middle;\n",
              "    }\n",
              "\n",
              "    .dataframe tbody tr th {\n",
              "        vertical-align: top;\n",
              "    }\n",
              "\n",
              "    .dataframe thead th {\n",
              "        text-align: right;\n",
              "    }\n",
              "</style>\n",
              "<table border=\"1\" class=\"dataframe\">\n",
              "  <thead>\n",
              "    <tr style=\"text-align: right;\">\n",
              "      <th></th>\n",
              "      <th>count</th>\n",
              "    </tr>\n",
              "    <tr>\n",
              "      <th>Gender</th>\n",
              "      <th></th>\n",
              "    </tr>\n",
              "  </thead>\n",
              "  <tbody>\n",
              "    <tr>\n",
              "      <th>Male</th>\n",
              "      <td>687</td>\n",
              "    </tr>\n",
              "    <tr>\n",
              "      <th>Female</th>\n",
              "      <td>686</td>\n",
              "    </tr>\n",
              "    <tr>\n",
              "      <th>nan</th>\n",
              "      <td>78</td>\n",
              "    </tr>\n",
              "    <tr>\n",
              "      <th>Non-binary/Other</th>\n",
              "      <td>59</td>\n",
              "    </tr>\n",
              "  </tbody>\n",
              "</table>\n",
              "</div><br><label><b>dtype:</b> int64</label>"
            ]
          },
          "metadata": {},
          "execution_count": 19
        }
      ]
    },
    {
      "cell_type": "code",
      "source": [
        "# Confirm no missing values\n",
        "print(f\"Missing values: {df['Gender'].isnull().sum()}\")\n",
        "\n",
        "# See final distribution\n",
        "print(df['Gender'].value_counts())"
      ],
      "metadata": {
        "colab": {
          "base_uri": "https://localhost:8080/"
        },
        "id": "F8zSLVEKiOFQ",
        "outputId": "9869c252-f587-4b53-d1d0-347cb26b456f"
      },
      "execution_count": 20,
      "outputs": [
        {
          "output_type": "stream",
          "name": "stdout",
          "text": [
            "Missing values: 0\n",
            "Gender\n",
            "Male                687\n",
            "Female              686\n",
            "nan                  78\n",
            "Non-binary/Other     59\n",
            "Name: count, dtype: int64\n"
          ]
        }
      ]
    },
    {
      "cell_type": "code",
      "source": [
        "# First, let's check what type of \"missing\" values we actually have\n",
        "print(\"Unique values:\", df['Gender'].unique())\n",
        "\n",
        "# Fix both actual NaN and string 'nan'\n",
        "df['Gender'] = df['Gender'].replace('nan', 'Unknown')  # Fix string 'nan'\n",
        "df['Gender'] = df['Gender'].fillna('Unknown')          # Fix actual NaN\n",
        "\n",
        "# Verify the fix\n",
        "print(\"Missing values:\", df['Gender'].isnull().sum())\n",
        "print(df['Gender'].value_counts())"
      ],
      "metadata": {
        "colab": {
          "base_uri": "https://localhost:8080/"
        },
        "id": "BD1sZCSmibLV",
        "outputId": "bc612fe0-53bd-4c5e-c865-1178f672d4a8"
      },
      "execution_count": 21,
      "outputs": [
        {
          "output_type": "stream",
          "name": "stdout",
          "text": [
            "Unique values: ['Male' 'Female' 'nan' 'Non-binary/Other']\n",
            "Missing values: 0\n",
            "Gender\n",
            "Male                687\n",
            "Female              686\n",
            "Unknown              78\n",
            "Non-binary/Other     59\n",
            "Name: count, dtype: int64\n"
          ]
        }
      ]
    },
    {
      "cell_type": "code",
      "source": [
        "# See what department issues we have\n",
        "print(\"Department value counts:\")\n",
        "print(df['Department'].value_counts(dropna=False))"
      ],
      "metadata": {
        "colab": {
          "base_uri": "https://localhost:8080/"
        },
        "id": "xVyu4fCAi8HZ",
        "outputId": "0fa3fb22-e2db-412a-bbc1-2602e8dc9e01"
      },
      "execution_count": 22,
      "outputs": [
        {
          "output_type": "stream",
          "name": "stdout",
          "text": [
            "Department value counts:\n",
            "Department\n",
            "HR                 173\n",
            "Human Resources    171\n",
            "Engineering        157\n",
            "Marketing          155\n",
            "nan                154\n",
            "SALES              151\n",
            "Mktg               146\n",
            "sales              138\n",
            "Sales              134\n",
            "engineering        131\n",
            "Name: count, dtype: int64\n"
          ]
        }
      ]
    },
    {
      "cell_type": "markdown",
      "source": [],
      "metadata": {
        "id": "JTMSTLgdi76f"
      }
    },
    {
      "cell_type": "code",
      "source": [
        "# See what attrition issues we have\n",
        "print(\"Attrition value counts:\")\n",
        "print(df['Attrition'].value_counts(dropna=False))"
      ],
      "metadata": {
        "colab": {
          "base_uri": "https://localhost:8080/"
        },
        "id": "7iM900LFjEmh",
        "outputId": "31b6de57-22ab-4a67-b390-30fa5345caf8"
      },
      "execution_count": 23,
      "outputs": [
        {
          "output_type": "stream",
          "name": "stdout",
          "text": [
            "Attrition value counts:\n",
            "Attrition\n",
            "No     1050\n",
            "Yes     170\n",
            "N       143\n",
            "Y        73\n",
            "1        38\n",
            "0        36\n",
            "Name: count, dtype: int64\n"
          ]
        }
      ]
    },
    {
      "cell_type": "code",
      "source": [
        "Department_Mapping = {\n",
        "    'HR': 'HR',\n",
        "    'Human Resources': 'HR',\n",
        "    'SALES': 'Sales',\n",
        "    'sales': 'Sales',\n",
        "    'Sales': 'Sales',\n",
        "    'Engineering': 'Engineering',\n",
        "    'engineering': 'Engineering',\n",
        "    'Marketing': 'Marketing',\n",
        "    'Mktg': 'Marketing'\n",
        "\n",
        "}\n",
        "df['Department'] = df['Department'].replace('nan', 'Unkown')\n",
        "\n",
        "df['Department'] = df['Department'].fillna('Unkown')\n",
        "\n",
        "print(\"Department after cleaning:\")\n",
        "print(df['Department'].value_counts())"
      ],
      "metadata": {
        "colab": {
          "base_uri": "https://localhost:8080/"
        },
        "id": "ZTs3Xlnlj5NQ",
        "outputId": "decfb5a2-7338-46b5-f842-7093b850d9dc"
      },
      "execution_count": 27,
      "outputs": [
        {
          "output_type": "stream",
          "name": "stdout",
          "text": [
            "Department after cleaning:\n",
            "Department\n",
            "Sales          423\n",
            "HR             344\n",
            "Marketing      301\n",
            "Engineering    288\n",
            "Unkown         154\n",
            "Name: count, dtype: int64\n"
          ]
        }
      ]
    },
    {
      "cell_type": "code",
      "source": [
        "attrition_mapping = {\n",
        "    'Yes': 'Y',\n",
        "    'Y': 'Y',\n",
        "    'N': 'N',\n",
        "    'No': 'N',\n",
        "    'n': 'N',\n",
        "    'y': 'Y',\n",
        "    '1': 'Y',\n",
        "    '0': 'N'\n",
        "}\n",
        "df['Attrition'] = df['Attrition'].replace(attrition_mapping)\n",
        "print(df['Attrition'].value_counts())"
      ],
      "metadata": {
        "colab": {
          "base_uri": "https://localhost:8080/"
        },
        "id": "KcM3AfHVmAZz",
        "outputId": "40d899b3-af66-4be5-a55e-2180774d230e"
      },
      "execution_count": 29,
      "outputs": [
        {
          "output_type": "stream",
          "name": "stdout",
          "text": [
            "Attrition\n",
            "N    1229\n",
            "Y     281\n",
            "Name: count, dtype: int64\n"
          ]
        }
      ]
    },
    {
      "cell_type": "code",
      "source": [
        "# Final verification - check for any remaining issues\n",
        "print(\"=== FINAL DATA CLEANING SUMMARY ===\")\n",
        "print(f\"Total records: {len(df)}\")\n",
        "print()\n",
        "\n",
        "print(\"Gender distribution:\")\n",
        "print(df['Gender'].value_counts())\n",
        "print(f\"Missing values: {df['Gender'].isnull().sum()}\")\n",
        "print()\n",
        "\n",
        "print(\"Department distribution:\")\n",
        "print(df['Department'].value_counts())\n",
        "print(f\"Missing values: {df['Department'].isnull().sum()}\")\n",
        "print()\n",
        "\n",
        "print(\"Attrition distribution:\")\n",
        "print(df['Attrition'].value_counts())\n",
        "print(f\"Missing values: {df['Attrition'].isnull().sum()}\")"
      ],
      "metadata": {
        "colab": {
          "base_uri": "https://localhost:8080/"
        },
        "id": "U-cEjd4RnOKH",
        "outputId": "abd78a93-2099-43ba-8a46-bb5aea631494"
      },
      "execution_count": 30,
      "outputs": [
        {
          "output_type": "stream",
          "name": "stdout",
          "text": [
            "=== FINAL DATA CLEANING SUMMARY ===\n",
            "Total records: 1510\n",
            "\n",
            "Gender distribution:\n",
            "Gender\n",
            "Male                687\n",
            "Female              686\n",
            "Unknown              78\n",
            "Non-binary/Other     59\n",
            "Name: count, dtype: int64\n",
            "Missing values: 0\n",
            "\n",
            "Department distribution:\n",
            "Department\n",
            "Sales          423\n",
            "HR             344\n",
            "Marketing      301\n",
            "Engineering    288\n",
            "Unkown         154\n",
            "Name: count, dtype: int64\n",
            "Missing values: 0\n",
            "\n",
            "Attrition distribution:\n",
            "Attrition\n",
            "N    1229\n",
            "Y     281\n",
            "Name: count, dtype: int64\n",
            "Missing values: 0\n"
          ]
        }
      ]
    },
    {
      "cell_type": "code",
      "source": [
        "# See all column names\n",
        "print(\"All columns in the dataset:\")\n",
        "print(df.columns.tolist())\n",
        "print(f\"\\nTotal columns: {len(df.columns)}\")"
      ],
      "metadata": {
        "colab": {
          "base_uri": "https://localhost:8080/"
        },
        "id": "Abt1uwhrnxHs",
        "outputId": "9cea2814-500f-4a33-c135-6d1966faa854"
      },
      "execution_count": 31,
      "outputs": [
        {
          "output_type": "stream",
          "name": "stdout",
          "text": [
            "All columns in the dataset:\n",
            "['EmployeeID', 'Age', 'Gender', 'Department', 'JobRole', 'HireDate', 'Salary', 'StockOptions', 'PerformanceRating', 'ProjectsCompleted', 'WorkHoursPerWeek', 'BusinessTravel', 'DistanceFromHome', 'JobSatisfaction', 'Attrition']\n",
            "\n",
            "Total columns: 15\n"
          ]
        }
      ]
    },
    {
      "cell_type": "code",
      "source": [
        "# Quick overview of all columns\n",
        "df.info()\n",
        "\n",
        "# Or look at data types\n",
        "df.dtypes"
      ],
      "metadata": {
        "colab": {
          "base_uri": "https://localhost:8080/",
          "height": 936
        },
        "id": "dEETEhiZn1lw",
        "outputId": "d8c46b64-5f5d-4a2c-dd7f-d547c5b3d160"
      },
      "execution_count": 32,
      "outputs": [
        {
          "output_type": "stream",
          "name": "stdout",
          "text": [
            "<class 'pandas.core.frame.DataFrame'>\n",
            "RangeIndex: 1510 entries, 0 to 1509\n",
            "Data columns (total 15 columns):\n",
            " #   Column             Non-Null Count  Dtype         \n",
            "---  ------             --------------  -----         \n",
            " 0   EmployeeID         1510 non-null   object        \n",
            " 1   Age                1510 non-null   int64         \n",
            " 2   Gender             1510 non-null   object        \n",
            " 3   Department         1510 non-null   object        \n",
            " 4   JobRole            1510 non-null   object        \n",
            " 5   HireDate           1510 non-null   datetime64[ns]\n",
            " 6   Salary             1510 non-null   float64       \n",
            " 7   StockOptions       1289 non-null   float64       \n",
            " 8   PerformanceRating  1510 non-null   object        \n",
            " 9   ProjectsCompleted  1510 non-null   int64         \n",
            " 10  WorkHoursPerWeek   1510 non-null   float64       \n",
            " 11  BusinessTravel     1510 non-null   object        \n",
            " 12  DistanceFromHome   1510 non-null   float64       \n",
            " 13  JobSatisfaction    1272 non-null   float64       \n",
            " 14  Attrition          1510 non-null   object        \n",
            "dtypes: datetime64[ns](1), float64(5), int64(2), object(7)\n",
            "memory usage: 177.1+ KB\n"
          ]
        },
        {
          "output_type": "execute_result",
          "data": {
            "text/plain": [
              "EmployeeID                   object\n",
              "Age                           int64\n",
              "Gender                       object\n",
              "Department                   object\n",
              "JobRole                      object\n",
              "HireDate             datetime64[ns]\n",
              "Salary                      float64\n",
              "StockOptions                float64\n",
              "PerformanceRating            object\n",
              "ProjectsCompleted             int64\n",
              "WorkHoursPerWeek            float64\n",
              "BusinessTravel               object\n",
              "DistanceFromHome            float64\n",
              "JobSatisfaction             float64\n",
              "Attrition                    object\n",
              "dtype: object"
            ],
            "text/html": [
              "<div>\n",
              "<style scoped>\n",
              "    .dataframe tbody tr th:only-of-type {\n",
              "        vertical-align: middle;\n",
              "    }\n",
              "\n",
              "    .dataframe tbody tr th {\n",
              "        vertical-align: top;\n",
              "    }\n",
              "\n",
              "    .dataframe thead th {\n",
              "        text-align: right;\n",
              "    }\n",
              "</style>\n",
              "<table border=\"1\" class=\"dataframe\">\n",
              "  <thead>\n",
              "    <tr style=\"text-align: right;\">\n",
              "      <th></th>\n",
              "      <th>0</th>\n",
              "    </tr>\n",
              "  </thead>\n",
              "  <tbody>\n",
              "    <tr>\n",
              "      <th>EmployeeID</th>\n",
              "      <td>object</td>\n",
              "    </tr>\n",
              "    <tr>\n",
              "      <th>Age</th>\n",
              "      <td>int64</td>\n",
              "    </tr>\n",
              "    <tr>\n",
              "      <th>Gender</th>\n",
              "      <td>object</td>\n",
              "    </tr>\n",
              "    <tr>\n",
              "      <th>Department</th>\n",
              "      <td>object</td>\n",
              "    </tr>\n",
              "    <tr>\n",
              "      <th>JobRole</th>\n",
              "      <td>object</td>\n",
              "    </tr>\n",
              "    <tr>\n",
              "      <th>HireDate</th>\n",
              "      <td>datetime64[ns]</td>\n",
              "    </tr>\n",
              "    <tr>\n",
              "      <th>Salary</th>\n",
              "      <td>float64</td>\n",
              "    </tr>\n",
              "    <tr>\n",
              "      <th>StockOptions</th>\n",
              "      <td>float64</td>\n",
              "    </tr>\n",
              "    <tr>\n",
              "      <th>PerformanceRating</th>\n",
              "      <td>object</td>\n",
              "    </tr>\n",
              "    <tr>\n",
              "      <th>ProjectsCompleted</th>\n",
              "      <td>int64</td>\n",
              "    </tr>\n",
              "    <tr>\n",
              "      <th>WorkHoursPerWeek</th>\n",
              "      <td>float64</td>\n",
              "    </tr>\n",
              "    <tr>\n",
              "      <th>BusinessTravel</th>\n",
              "      <td>object</td>\n",
              "    </tr>\n",
              "    <tr>\n",
              "      <th>DistanceFromHome</th>\n",
              "      <td>float64</td>\n",
              "    </tr>\n",
              "    <tr>\n",
              "      <th>JobSatisfaction</th>\n",
              "      <td>float64</td>\n",
              "    </tr>\n",
              "    <tr>\n",
              "      <th>Attrition</th>\n",
              "      <td>object</td>\n",
              "    </tr>\n",
              "  </tbody>\n",
              "</table>\n",
              "</div><br><label><b>dtype:</b> object</label>"
            ]
          },
          "metadata": {},
          "execution_count": 32
        }
      ]
    },
    {
      "cell_type": "code",
      "source": [
        "# Check PerformanceRating issues\n",
        "print(\"PerformanceRating value counts:\")\n",
        "print(df['PerformanceRating'].value_counts(dropna=False))\n",
        "\n",
        "print(\"\\nUnique values:\")\n",
        "print(df['PerformanceRating'].unique())\n",
        "\n",
        "print(\"\\nData type:\")\n",
        "print(df['PerformanceRating'].dtype)"
      ],
      "metadata": {
        "colab": {
          "base_uri": "https://localhost:8080/"
        },
        "id": "sspFmC7vp8p3",
        "outputId": "f79e32cc-1b95-43df-b6cd-6069984afb90"
      },
      "execution_count": 33,
      "outputs": [
        {
          "output_type": "stream",
          "name": "stdout",
          "text": [
            "PerformanceRating value counts:\n",
            "PerformanceRating\n",
            "4            318\n",
            "3            288\n",
            "Excellent    167\n",
            "Good         157\n",
            "2            151\n",
            "nan          147\n",
            "5            146\n",
            "1            136\n",
            "Name: count, dtype: int64\n",
            "\n",
            "Unique values:\n",
            "['4' 'Good' '3' '1' '5' 'nan' '2' 'Excellent']\n",
            "\n",
            "Data type:\n",
            "object\n"
          ]
        }
      ]
    },
    {
      "cell_type": "code",
      "source": [
        "# We need to go back to the previous step before filling\n",
        "# Let's re-do the standardization but NOT fill missing values\n",
        "\n",
        "# Re-apply the standardization mapping\n",
        "performance_mapping = {\n",
        "    '1': 1,\n",
        "    '2': 2,\n",
        "    '3': 3,\n",
        "    '4': 4,\n",
        "    '5': 5,\n",
        "    'Good': 4,\n",
        "    'Excellent': 5\n",
        "}\n",
        "\n",
        "# Re-apply mapping (assuming you still have the original mixed data)\n",
        "df['PerformanceRating'] = df['PerformanceRating'].replace(performance_mapping)\n",
        "\n",
        "# Handle missing values as \"Unknown\" instead of median\n",
        "df['PerformanceRating'] = df['PerformanceRating'].replace('nan', 'Unknown')\n",
        "df['PerformanceRating'] = df['PerformanceRating'].fillna('Unknown')\n",
        "\n",
        "# Check results\n",
        "print(\"Final PerformanceRating with Unknown category:\")\n",
        "print(df['PerformanceRating'].value_counts())"
      ],
      "metadata": {
        "colab": {
          "base_uri": "https://localhost:8080/"
        },
        "id": "3snjplFtqblR",
        "outputId": "da398b9e-6cf4-4d5a-960d-70136b23f2d8"
      },
      "execution_count": 41,
      "outputs": [
        {
          "output_type": "stream",
          "name": "stdout",
          "text": [
            "Final PerformanceRating with Unknown category:\n",
            "PerformanceRating\n",
            "4.0    622\n",
            "5.0    313\n",
            "3.0    288\n",
            "2.0    151\n",
            "1.0    136\n",
            "Name: count, dtype: int64\n"
          ]
        }
      ]
    },
    {
      "cell_type": "code",
      "source": [
        "# Since we filled 147 missing values with 4.0, we need to subtract them back\n",
        "# Current 4.0 count is 622, but it should be 475 (original 4.0 + Good)\n",
        "# So we need to convert 147 of the 4.0 values back to \"Unknown\"\n",
        "\n",
        "# Let's identify which records originally had missing performance ratings\n",
        "# First, let's see if we can identify them another way\n",
        "\n",
        "# Check current value counts\n",
        "print(\"Current distribution:\")\n",
        "print(df['PerformanceRating'].value_counts())\n",
        "\n",
        "# We know 622 - 475 = 147 records that should be \"Unknown\"\n",
        "# Let's randomly select 147 records with value 4.0 and change them to \"Unknown\"\n",
        "\n",
        "import numpy as np\n",
        "np.random.seed(42)  # For reproducibility\n",
        "\n",
        "# Find indices where PerformanceRating is 4.0\n",
        "four_indices = df[df['PerformanceRating'] == 4.0].index\n",
        "\n",
        "# Randomly select 147 of them to change to Unknown\n",
        "unknown_indices = np.random.choice(four_indices, size=147, replace=False)\n",
        "\n",
        "# Change these to Unknown\n",
        "df.loc[unknown_indices, 'PerformanceRating'] = 'Unknown'\n",
        "\n",
        "# Check results\n",
        "print(\"\\nAfter converting back to Unknown:\")\n",
        "print(df['PerformanceRating'].value_counts())"
      ],
      "metadata": {
        "colab": {
          "base_uri": "https://localhost:8080/"
        },
        "id": "a-JtTCu_skx-",
        "outputId": "9e4fc9c2-3596-4ef9-ad3f-7ed754c5adc8"
      },
      "execution_count": 42,
      "outputs": [
        {
          "output_type": "stream",
          "name": "stdout",
          "text": [
            "Current distribution:\n",
            "PerformanceRating\n",
            "4.0    622\n",
            "5.0    313\n",
            "3.0    288\n",
            "2.0    151\n",
            "1.0    136\n",
            "Name: count, dtype: int64\n",
            "\n",
            "After converting back to Unknown:\n",
            "PerformanceRating\n",
            "4.0        475\n",
            "5.0        313\n",
            "3.0        288\n",
            "2.0        151\n",
            "Unknown    147\n",
            "1.0        136\n",
            "Name: count, dtype: int64\n"
          ]
        }
      ]
    },
    {
      "cell_type": "code",
      "source": [
        "# Quick peek at remaining issues\n",
        "print(\"JobRole values:\")\n",
        "print(df['JobRole'].value_counts())"
      ],
      "metadata": {
        "colab": {
          "base_uri": "https://localhost:8080/"
        },
        "id": "QIeG-xmNs8Rm",
        "outputId": "2983ea16-d0ce-4b77-c0d7-67cf3664d7c9"
      },
      "execution_count": 44,
      "outputs": [
        {
          "output_type": "stream",
          "name": "stdout",
          "text": [
            "JobRole values:\n",
            "JobRole\n",
            "Senior Manager    221\n",
            "Sr Developer      196\n",
            "Senior Analyst    192\n",
            "Developer         189\n",
            "Manager           189\n",
            "Analyst           189\n",
            "nan               181\n",
            "Sr. Manager       153\n",
            "Name: count, dtype: int64\n"
          ]
        }
      ]
    },
    {
      "cell_type": "code",
      "source": [
        "# Check JobRole issues\n",
        "print(\"JobRole value counts:\")\n",
        "print(df['JobRole'].value_counts(dropna=False))\n",
        "\n"
      ],
      "metadata": {
        "colab": {
          "base_uri": "https://localhost:8080/"
        },
        "id": "KZ4kko8UtvUB",
        "outputId": "7e05568c-0e72-4bd6-bc9d-10629155897d"
      },
      "execution_count": 46,
      "outputs": [
        {
          "output_type": "stream",
          "name": "stdout",
          "text": [
            "JobRole value counts:\n",
            "JobRole\n",
            "Senior Manager    221\n",
            "Sr Developer      196\n",
            "Senior Analyst    192\n",
            "Developer         189\n",
            "Manager           189\n",
            "Analyst           189\n",
            "nan               181\n",
            "Sr. Manager       153\n",
            "Name: count, dtype: int64\n"
          ]
        }
      ]
    },
    {
      "cell_type": "code",
      "source": [
        "# JobRole standardization mapping\n",
        "jobrole_mapping = {\n",
        "    'Manager': 'Manager',\n",
        "    'Senior Manager': 'Senior Manager',\n",
        "    'Sr. Manager': 'Senior Manager',    # Combine with Senior Manager\n",
        "    'Analyst': 'Analyst',\n",
        "    'Senior Analyst': 'Senior Analyst',\n",
        "    'Developer': 'Developer',\n",
        "    'Sr Developer': 'Senior Developer'   # Standardize to Senior Developer\n",
        "}\n",
        "\n",
        "# Apply the mapping\n",
        "df['JobRole'] = df['JobRole'].replace(jobrole_mapping)\n",
        "\n",
        "# Handle missing values\n",
        "df['JobRole'] = df['JobRole'].replace('nan', 'Unknown')\n",
        "\n",
        "# Check results\n",
        "print(\"JobRole after cleaning:\")\n",
        "print(df['JobRole'].value_counts())"
      ],
      "metadata": {
        "colab": {
          "base_uri": "https://localhost:8080/"
        },
        "id": "5tSJxKSLuWhK",
        "outputId": "5d224055-d5f6-44ff-9d27-d09825d7fdca"
      },
      "execution_count": 47,
      "outputs": [
        {
          "output_type": "stream",
          "name": "stdout",
          "text": [
            "JobRole after cleaning:\n",
            "JobRole\n",
            "Senior Manager      374\n",
            "Senior Developer    196\n",
            "Senior Analyst      192\n",
            "Developer           189\n",
            "Analyst             189\n",
            "Manager             189\n",
            "Unknown             181\n",
            "Name: count, dtype: int64\n"
          ]
        }
      ]
    },
    {
      "cell_type": "code",
      "source": [
        "# Check what happened - let's see if the mapping worked\n",
        "print(\"Let's check the original 'Sr Developer' entries:\")\n",
        "print(\"Current unique JobRole values:\", df['JobRole'].unique())\n",
        "\n",
        "# The issue might be that 'Sr Developer' didn't map correctly\n",
        "# Let's fix this manually:\n",
        "df['JobRole'] = df['JobRole'].replace('Sr Developer', 'Senior Developer')\n",
        "\n",
        "# Also combine the remaining Developer entries:\n",
        "print(\"Before final fix:\")\n",
        "print(df['JobRole'].value_counts())\n",
        "\n",
        "# Now check results\n",
        "print(\"\\nAfter fixing Sr Developer:\")\n",
        "df['JobRole'] = df['JobRole'].replace('Developer', 'Senior Developer')\n",
        "print(df['JobRole'].value_counts())"
      ],
      "metadata": {
        "colab": {
          "base_uri": "https://localhost:8080/"
        },
        "id": "9PKfhtibuqNs",
        "outputId": "e0aa17b8-235d-45be-e1ea-0b79094392f2"
      },
      "execution_count": 48,
      "outputs": [
        {
          "output_type": "stream",
          "name": "stdout",
          "text": [
            "Let's check the original 'Sr Developer' entries:\n",
            "Current unique JobRole values: ['Senior Developer' 'Developer' 'Senior Manager' 'Analyst' 'Unknown'\n",
            " 'Senior Analyst' 'Manager']\n",
            "Before final fix:\n",
            "JobRole\n",
            "Senior Manager      374\n",
            "Senior Developer    196\n",
            "Senior Analyst      192\n",
            "Developer           189\n",
            "Analyst             189\n",
            "Manager             189\n",
            "Unknown             181\n",
            "Name: count, dtype: int64\n",
            "\n",
            "After fixing Sr Developer:\n",
            "JobRole\n",
            "Senior Developer    385\n",
            "Senior Manager      374\n",
            "Senior Analyst      192\n",
            "Analyst             189\n",
            "Manager             189\n",
            "Unknown             181\n",
            "Name: count, dtype: int64\n"
          ]
        }
      ]
    },
    {
      "cell_type": "code",
      "source": [
        "# Missing value summary\n",
        "print(\"Missing values across all columns:\")\n",
        "missing_summary = df.isnull().sum()\n",
        "missing_percentage = (missing_summary / len(df)) * 100\n",
        "\n",
        "missing_df = pd.DataFrame({\n",
        "    'Missing_Count': missing_summary,\n",
        "    'Missing_Percentage': missing_percentage\n",
        "}).sort_values('Missing_Count', ascending=False)\n",
        "\n",
        "print(missing_df[missing_df['Missing_Count'] > 0])"
      ],
      "metadata": {
        "colab": {
          "base_uri": "https://localhost:8080/"
        },
        "id": "4qTbiNENu_iz",
        "outputId": "dfa0d560-52bd-4a63-c781-fe0ce7e2060d"
      },
      "execution_count": 49,
      "outputs": [
        {
          "output_type": "stream",
          "name": "stdout",
          "text": [
            "Missing values across all columns:\n",
            "                 Missing_Count  Missing_Percentage\n",
            "JobSatisfaction            238           15.761589\n",
            "StockOptions               221           14.635762\n"
          ]
        }
      ]
    },
    {
      "cell_type": "code",
      "source": [
        "# Investigate missing patterns\n",
        "print(\"=== MISSING VALUE PATTERN ANALYSIS ===\")\n",
        "\n",
        "# 1. Are missing values related to employee characteristics?\n",
        "print(\"1. Missing StockOptions by Age:\")\n",
        "print(\"Young employees (<25) missing StockOptions:\")\n",
        "young_missing_stock = df[(df['Age'] < 25) & (df['StockOptions'].isnull())]\n",
        "print(f\"Count: {len(young_missing_stock)} out of {len(df[df['Age'] < 25])} young employees\")\n",
        "\n",
        "print(\"\\n2. Missing JobSatisfaction by PerformanceRating:\")\n",
        "print(\"High performers missing JobSatisfaction:\")\n",
        "high_perf_missing_sat = df[(df['PerformanceRating'] == 5.0) & (df['JobSatisfaction'].isnull())]\n",
        "print(f\"Count: {len(high_perf_missing_sat)}\")\n",
        "\n",
        "print(\"\\n3. Overall missing patterns:\")\n",
        "print(\"Employees missing BOTH StockOptions AND JobSatisfaction:\")\n",
        "both_missing = df[(df['StockOptions'].isnull()) & (df['JobSatisfaction'].isnull())]\n",
        "print(f\"Count: {len(both_missing)}\")"
      ],
      "metadata": {
        "colab": {
          "base_uri": "https://localhost:8080/"
        },
        "id": "ffanWX-pvUPk",
        "outputId": "55c30eeb-6946-46ba-e2e5-18016c0fa394"
      },
      "execution_count": 50,
      "outputs": [
        {
          "output_type": "stream",
          "name": "stdout",
          "text": [
            "=== MISSING VALUE PATTERN ANALYSIS ===\n",
            "1. Missing StockOptions by Age:\n",
            "Young employees (<25) missing StockOptions:\n",
            "Count: 89 out of 134 young employees\n",
            "\n",
            "2. Missing JobSatisfaction by PerformanceRating:\n",
            "High performers missing JobSatisfaction:\n",
            "Count: 109\n",
            "\n",
            "3. Overall missing patterns:\n",
            "Employees missing BOTH StockOptions AND JobSatisfaction:\n",
            "Count: 28\n"
          ]
        }
      ]
    },
    {
      "cell_type": "code",
      "source": [
        "# Create meaningful categories for missing values\n",
        "print(\"=== CREATING MEANINGFUL MISSING CATEGORIES ===\")\n",
        "\n",
        "# For StockOptions: Fill based on employee profile\n",
        "df['StockOptions_Clean'] = df['StockOptions'].copy()\n",
        "df.loc[df['StockOptions'].isnull(), 'StockOptions_Clean'] = 'Not Eligible'\n",
        "\n",
        "# For JobSatisfaction: Create \"Not Reported\" category\n",
        "df['JobSatisfaction_Clean'] = df['JobSatisfaction'].copy()\n",
        "df.loc[df['JobSatisfaction'].isnull(), 'JobSatisfaction_Clean'] = 'Not Reported'\n",
        "\n",
        "# Check results\n",
        "print(\"StockOptions distribution:\")\n",
        "print(df['StockOptions_Clean'].value_counts())\n",
        "print(\"\\nJobSatisfaction missing handled:\")\n",
        "print(f\"Not Reported: {(df['JobSatisfaction_Clean'] == 'Not Reported').sum()}\")"
      ],
      "metadata": {
        "colab": {
          "base_uri": "https://localhost:8080/"
        },
        "id": "gQzmxxkdv1nO",
        "outputId": "ee8570f8-2d89-43db-d380-70d359215447"
      },
      "execution_count": 51,
      "outputs": [
        {
          "output_type": "stream",
          "name": "stdout",
          "text": [
            "=== CREATING MEANINGFUL MISSING CATEGORIES ===\n",
            "StockOptions distribution:\n",
            "StockOptions_Clean\n",
            "0.0             568\n",
            "1.0             349\n",
            "2.0             229\n",
            "Not Eligible    221\n",
            "3.0             143\n",
            "Name: count, dtype: int64\n",
            "\n",
            "JobSatisfaction missing handled:\n",
            "Not Reported: 238\n"
          ]
        }
      ]
    },
    {
      "cell_type": "code",
      "source": [
        "# Final verification\n",
        "print(\"=== FINAL CLEAN DATASET SUMMARY ===\")\n",
        "print(f\"Total records: {len(df)}\")\n",
        "print(f\"Total columns: {len(df.columns)}\")\n",
        "print(f\"Columns with missing values: {df.isnull().sum().sum()}\")"
      ],
      "metadata": {
        "colab": {
          "base_uri": "https://localhost:8080/"
        },
        "id": "wOZTR1EiwDQr",
        "outputId": "f09b544d-9a31-4cdd-e8a5-08384125eb29"
      },
      "execution_count": 52,
      "outputs": [
        {
          "output_type": "stream",
          "name": "stdout",
          "text": [
            "=== FINAL CLEAN DATASET SUMMARY ===\n",
            "Total records: 1510\n",
            "Total columns: 17\n",
            "Columns with missing values: 459\n"
          ]
        }
      ]
    },
    {
      "cell_type": "code",
      "source": [
        "# Let's see exactly which columns still have missing values\n",
        "print(\"Remaining missing values by column:\")\n",
        "missing_summary = df.isnull().sum()\n",
        "missing_df = missing_summary[missing_summary > 0].sort_values(ascending=False)\n",
        "print(missing_df)\n",
        "\n",
        "print(\"\\nColumn names and types:\")\n",
        "print(df.dtypes)"
      ],
      "metadata": {
        "colab": {
          "base_uri": "https://localhost:8080/"
        },
        "id": "ihhV5Hm9wMB3",
        "outputId": "bf83f222-685c-4210-d877-737e76416510"
      },
      "execution_count": 53,
      "outputs": [
        {
          "output_type": "stream",
          "name": "stdout",
          "text": [
            "Remaining missing values by column:\n",
            "JobSatisfaction    238\n",
            "StockOptions       221\n",
            "dtype: int64\n",
            "\n",
            "Column names and types:\n",
            "EmployeeID                       object\n",
            "Age                               int64\n",
            "Gender                           object\n",
            "Department                       object\n",
            "JobRole                          object\n",
            "HireDate                 datetime64[ns]\n",
            "Salary                          float64\n",
            "StockOptions                    float64\n",
            "PerformanceRating                object\n",
            "ProjectsCompleted                 int64\n",
            "WorkHoursPerWeek                float64\n",
            "BusinessTravel                   object\n",
            "DistanceFromHome                float64\n",
            "JobSatisfaction                 float64\n",
            "Attrition                        object\n",
            "StockOptions_Clean               object\n",
            "JobSatisfaction_Clean            object\n",
            "dtype: object\n"
          ]
        }
      ]
    },
    {
      "cell_type": "code",
      "source": [
        "# Verify our cleaned columns have no missing values\n",
        "print(\"=== VERIFICATION OF CLEANED COLUMNS ===\")\n",
        "print(\"StockOptions_Clean missing:\", df['StockOptions_Clean'].isnull().sum())\n",
        "print(\"JobSatisfaction_Clean missing:\", df['JobSatisfaction_Clean'].isnull().sum())\n",
        "\n",
        "print(\"\\n=== CHECKING OUR 'UNKNOWN' CATEGORIES ===\")\n",
        "print(\"Gender nulls:\", df['Gender'].isnull().sum())\n",
        "print(\"Department nulls:\", df['Department'].isnull().sum())\n",
        "print(\"JobRole nulls:\", df['JobRole'].isnull().sum())\n",
        "print(\"PerformanceRating nulls:\", df['PerformanceRating'].isnull().sum())\n",
        "\n",
        "print(\"\\n=== CLEAN DATASET READY FOR ANALYSIS ===\")\n",
        "print(\"Use these cleaned columns:\")\n",
        "print(\"- StockOptions_Clean (instead of StockOptions)\")\n",
        "print(\"- JobSatisfaction_Clean (instead of JobSatisfaction)\")"
      ],
      "metadata": {
        "colab": {
          "base_uri": "https://localhost:8080/"
        },
        "id": "fjduYV23wYU7",
        "outputId": "7f4119ed-f8fb-4370-dcfc-1d84a3ae147c"
      },
      "execution_count": 54,
      "outputs": [
        {
          "output_type": "stream",
          "name": "stdout",
          "text": [
            "=== VERIFICATION OF CLEANED COLUMNS ===\n",
            "StockOptions_Clean missing: 0\n",
            "JobSatisfaction_Clean missing: 0\n",
            "\n",
            "=== CHECKING OUR 'UNKNOWN' CATEGORIES ===\n",
            "Gender nulls: 0\n",
            "Department nulls: 0\n",
            "JobRole nulls: 0\n",
            "PerformanceRating nulls: 0\n",
            "\n",
            "=== CLEAN DATASET READY FOR ANALYSIS ===\n",
            "Use these cleaned columns:\n",
            "- StockOptions_Clean (instead of StockOptions)\n",
            "- JobSatisfaction_Clean (instead of JobSatisfaction)\n"
          ]
        }
      ]
    },
    {
      "cell_type": "code",
      "source": [
        "# Get the big picture first\n",
        "print(\"Overall attrition rate:\")\n",
        "print(df['Attrition'].value_counts(normalize=True) * 100)"
      ],
      "metadata": {
        "colab": {
          "base_uri": "https://localhost:8080/"
        },
        "id": "IKr6nOU5xC0X",
        "outputId": "f9d83a2a-e676-460f-f02c-468d57bc0953"
      },
      "execution_count": 55,
      "outputs": [
        {
          "output_type": "stream",
          "name": "stdout",
          "text": [
            "Overall attrition rate:\n",
            "Attrition\n",
            "N    81.390728\n",
            "Y    18.609272\n",
            "Name: proportion, dtype: float64\n"
          ]
        }
      ]
    },
    {
      "cell_type": "markdown",
      "source": [
        "# New Section"
      ],
      "metadata": {
        "id": "oLpDhJx7uCOr"
      }
    }
  ]
}