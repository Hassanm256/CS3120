{
  "nbformat": 4,
  "nbformat_minor": 0,
  "metadata": {
    "colab": {
      "provenance": [],
      "machine_shape": "hm",
      "gpuType": "T4",
      "authorship_tag": "ABX9TyPKj1xDB2TbfzqDpHvnWQ8c",
      "include_colab_link": true
    },
    "kernelspec": {
      "name": "python3",
      "display_name": "Python 3"
    },
    "language_info": {
      "name": "python"
    },
    "accelerator": "GPU"
  },
  "cells": [
    {
      "cell_type": "markdown",
      "metadata": {
        "id": "view-in-github",
        "colab_type": "text"
      },
      "source": [
        "<a href=\"https://colab.research.google.com/github/Hassanm256/CS3120/blob/main/Untitled17.ipynb\" target=\"_parent\"><img src=\"https://colab.research.google.com/assets/colab-badge.svg\" alt=\"Open In Colab\"/></a>"
      ]
    },
    {
      "cell_type": "markdown",
      "source": [],
      "metadata": {
        "id": "EhTFIdnkDPSY"
      }
    },
    {
      "cell_type": "code",
      "execution_count": null,
      "metadata": {
        "id": "xtzdw_RcC8n-"
      },
      "outputs": [],
      "source": [
        "what_were_covering = { 1: \"data (prepare and load)\",\n",
        "                        2: \"build model\" ,\n",
        "                        3: \" fitting the model to data (training)\",\n",
        "                        4: \"making predictions and evaluating a model (inference)\",\n",
        "                        5: \"saving and loading the model\",\n",
        "                        6: \" putting it all together \" }"
      ]
    },
    {
      "cell_type": "code",
      "source": [
        "import torch\n",
        "from torch import nn\n",
        "import matplotlib.pyplot as plt\n",
        "# check pytorch\n",
        "torch.__version__"
      ],
      "metadata": {
        "colab": {
          "base_uri": "https://localhost:8080/",
          "height": 35
        },
        "id": "sOUllSeDEIhx",
        "outputId": "d63d4352-aac6-471e-d6e2-a511e79ecf1f"
      },
      "execution_count": null,
      "outputs": [
        {
          "output_type": "execute_result",
          "data": {
            "text/plain": [
              "'2.6.0+cu124'"
            ],
            "application/vnd.google.colaboratory.intrinsic+json": {
              "type": "string"
            }
          },
          "metadata": {},
          "execution_count": 45
        }
      ]
    },
    {
      "cell_type": "markdown",
      "source": [
        "## Data (preparing and loading )"
      ],
      "metadata": {
        "id": "Uat9Clh2GGjt"
      }
    },
    {
      "cell_type": "markdown",
      "source": [
        "Data can be almost everything\n",
        "\n",
        "* Excel spreadsheet\n",
        "* Images of any kind\n",
        "* Videos (Youtube has lots of data...) \\\n",
        "* Audio like songs or podcasts\n",
        "* DNA\n",
        "* Text\n",
        "\n",
        "machine learning is a game of two parts:\n",
        "1. get data into a numerical representation.\n",
        "2. Build a model to learn patterns in that numerical representation\n",
        "\n",
        "To showcase this, lets create some known data using the linear regression formula.\n",
        "we'll use a linear regression formula to make a strainght line with known parameters.\n"
      ],
      "metadata": {
        "id": "2dggfYcKGPIy"
      }
    },
    {
      "cell_type": "code",
      "source": [
        "# create a known parameters\n",
        "weight = .7\n",
        "bias = .3\n",
        "# create\n",
        "start = 0\n",
        "end = 1\n",
        "step = .02\n",
        "x = torch.arange(start, end , step).unsqueeze(dim=1)\n",
        "y = weight * x + bias\n",
        "x[:10], y[:10], len(x), len(y)"
      ],
      "metadata": {
        "colab": {
          "base_uri": "https://localhost:8080/"
        },
        "id": "QmJ01xIzGLL6",
        "outputId": "a9b21d42-8a07-4684-c2b6-0e6882c7a9d8"
      },
      "execution_count": null,
      "outputs": [
        {
          "output_type": "execute_result",
          "data": {
            "text/plain": [
              "(tensor([[0.0000],\n",
              "         [0.0200],\n",
              "         [0.0400],\n",
              "         [0.0600],\n",
              "         [0.0800],\n",
              "         [0.1000],\n",
              "         [0.1200],\n",
              "         [0.1400],\n",
              "         [0.1600],\n",
              "         [0.1800]]),\n",
              " tensor([[0.3000],\n",
              "         [0.3140],\n",
              "         [0.3280],\n",
              "         [0.3420],\n",
              "         [0.3560],\n",
              "         [0.3700],\n",
              "         [0.3840],\n",
              "         [0.3980],\n",
              "         [0.4120],\n",
              "         [0.4260]]),\n",
              " 50,\n",
              " 50)"
            ]
          },
          "metadata": {},
          "execution_count": 46
        }
      ]
    },
    {
      "cell_type": "code",
      "source": [
        "1. ### split the data into training and test sets ( one of the most important in the machie learning in general)\n",
        "# lets create a training and test set with out data\n"
      ],
      "metadata": {
        "colab": {
          "base_uri": "https://localhost:8080/"
        },
        "id": "WDKhuGZtF2zB",
        "outputId": "bfa20de9-48d3-4370-cb2f-6137d27af7af"
      },
      "execution_count": null,
      "outputs": [
        {
          "output_type": "execute_result",
          "data": {
            "text/plain": [
              "1.0"
            ]
          },
          "metadata": {},
          "execution_count": 47
        }
      ]
    },
    {
      "cell_type": "code",
      "source": [
        "# create a train\\test split\n",
        "train_split = int(.8 * len(x))\n",
        "\n",
        "x_train, y_train = x[:train_split], y[:train_split]\n",
        "\n",
        "x_test, y_test = x[train_split:], y[train_split:]\n",
        "\n",
        "len(x_train), len(y_train), len(x_test), len(y_test)"
      ],
      "metadata": {
        "colab": {
          "base_uri": "https://localhost:8080/"
        },
        "id": "uajzA2lAsTPo",
        "outputId": "2bd34428-65db-470e-fa11-701297f13c88"
      },
      "execution_count": null,
      "outputs": [
        {
          "output_type": "execute_result",
          "data": {
            "text/plain": [
              "(40, 40, 10, 10)"
            ]
          },
          "metadata": {},
          "execution_count": 48
        }
      ]
    },
    {
      "cell_type": "markdown",
      "source": [
        "### how might we better visualize our data?\n",
        "this is where the data explores's motto comes in!\n",
        "\n",
        "visualize! visualize! visualize!\n"
      ],
      "metadata": {
        "id": "B4d9WSCBuvhw"
      }
    },
    {
      "cell_type": "code",
      "source": [
        "def plot_predictions(train_data = x_train,\n",
        "\n",
        "                     train_labels = y_train,\n",
        "                     test_data = x_test,\n",
        "                     test_labels = y_test,\n",
        "                     predictions = None):\n",
        "  \"\"\"\n",
        "  plots training data, test data and compares predictions.\n",
        "  \"\"\"\n",
        "\n",
        "  plt.figure(figsize =(10, 7))\n",
        "# plot training data in blue\n",
        "  plt.scatter(train_data, train_labels, c=\"b\", s=4, label= \"Training data\")\n",
        "\n",
        "# plot test data in green\n",
        "\n",
        "  plt.scatter(test_data, test_labels, c=\"g\", s=4, label=\"Testing data\")\n",
        "# are there predictions\n",
        "  if predictions is not None:\n",
        "   plt.scatter(test_data, predictions, c=\"r\", s=4, label= \"predictions\")\n",
        "\n",
        "   plt.legend(prop={\"size\": 14});\n",
        "\n",
        "\n"
      ],
      "metadata": {
        "id": "HsXo7B68vKNu"
      },
      "execution_count": null,
      "outputs": []
    },
    {
      "cell_type": "code",
      "source": [
        "plot_predictions();"
      ],
      "metadata": {
        "colab": {
          "base_uri": "https://localhost:8080/",
          "height": 460
        },
        "id": "aORjGL4RwJBt",
        "outputId": "478d1fbd-a6fc-4559-f0c0-b604e9d599d9"
      },
      "execution_count": null,
      "outputs": [
        {
          "output_type": "display_data",
          "data": {
            "text/plain": [
              "<Figure size 1000x700 with 1 Axes>"
            ],
            "image/png": "[encoded data removed]"
          },
          "metadata": {}
        }
      ]
    },
    {
      "cell_type": "markdown",
      "source": [
        "### BUILD MODEL\n",
        "OUR FIRST PYTORCH MODEL !\n",
        "\n",
        "\n",
        " Because we are going to be building classes throughout the course, get familiar with OOP in python, to do so use this https://realpython.com/python3-object-oriented-programming/\n",
        "\n",
        " what our model does\n",
        " * Start with random values (weight & bias)\n",
        " * look at the training data and adjust the random values to better preresent ( or get closer to) the ideal values (the weight and bias values we create the data)\n",
        "\n",
        " how does it do so?\n",
        "\n",
        " through two main algorithms:\n",
        " 1. gradient descent\n",
        " 2. Backpropogation"
      ],
      "metadata": {
        "id": "DRa7tCnm9OTu"
      }
    },
    {
      "cell_type": "code",
      "source": [
        "import torch\n",
        "import torch.nn as nn\n",
        "\n",
        "class LinearRegressionModel(nn.Module):\n",
        "    def __init__(self):\n",
        "        super().__init__()\n",
        "        # nn.Parameter is the class you want:\n",
        "        self.weights = nn.Parameter(\n",
        "            torch.randn(1, requires_grad=True, dtype=torch.float)\n",
        "        )\n",
        "        self.bias = nn.Parameter(\n",
        "            torch.randn(1, requires_grad=True, dtype=torch.float)\n",
        "        )\n",
        "\n",
        "    def forward(self, x: torch.Tensor) -> torch.Tensor:\n",
        "        return self.weights * x + self.bias\n",
        "\n",
        "# now this will work:\n",
        "torch.manual_seed(42)\n",
        "model = LinearRegressionModel()\n",
        "print(list(model.parameters()))\n"
      ],
      "metadata": {
        "colab": {
          "base_uri": "https://localhost:8080/"
        },
        "id": "7g-WjSOu1d9U",
        "outputId": "17b74b59-dbb0-42e5-edb5-954669ae03b7"
      },
      "execution_count": null,
      "outputs": [
        {
          "output_type": "stream",
          "name": "stdout",
          "text": [
            "[Parameter containing:\n",
            "tensor([0.3367], requires_grad=True), Parameter containing:\n",
            "tensor([0.1288], requires_grad=True)]\n"
          ]
        }
      ]
    },
    {
      "cell_type": "markdown",
      "source": [
        "### pytorch model buuilding essential\n",
        " * **torch.nn-** containtains all of the building blocks for computaational graphs ( a nueral networks)\n",
        "\n",
        " * **torch.nn.parameter** - what parameters should our model learn often a pytorch layer from torch.nn will set these for us\n",
        "\n",
        "* t**orch.nn.module** - the base class for all nueral netwrk modules if you subclasses, you should overwrite it forward()\n",
        "\n",
        "* **torch.optim** - this is where the optimizers in Pytorch livev, they will help with gradient descent\n",
        "\n",
        "* **def forward()** - all nn.moule subclasses requires you to overwrite forward(), this method defines what happens in the forward cmputations.\n"
      ],
      "metadata": {
        "id": "GYUhJTX2Vm1l"
      }
    },
    {
      "cell_type": "markdown",
      "source": [
        "### checking the content of our model\n",
        "\n",
        "Now we've created a model, lets see whats's inside...\n",
        "\n",
        "So we can check our model parameters or   what's inside our model using .parameters().\n"
      ],
      "metadata": {
        "id": "rZCMZ0c9ZAxa"
      }
    },
    {
      "cell_type": "code",
      "source": [
        "model.state_dict()"
      ],
      "metadata": {
        "colab": {
          "base_uri": "https://localhost:8080/"
        },
        "id": "9UnbBzLx58HE",
        "outputId": "a037320a-b1ea-48aa-ba57-45754bd8b4a2"
      },
      "execution_count": null,
      "outputs": [
        {
          "output_type": "execute_result",
          "data": {
            "text/plain": [
              "OrderedDict([('weights', tensor([0.3367])), ('bias', tensor([0.1288]))])"
            ]
          },
          "metadata": {},
          "execution_count": 52
        }
      ]
    },
    {
      "cell_type": "code",
      "source": [
        "weight, bias"
      ],
      "metadata": {
        "colab": {
          "base_uri": "https://localhost:8080/"
        },
        "id": "P2Pj4U4i57-C",
        "outputId": "7452773b-0460-4bc7-f24a-ad2ffa8443e7"
      },
      "execution_count": null,
      "outputs": [
        {
          "output_type": "execute_result",
          "data": {
            "text/plain": [
              "(0.7, 0.3)"
            ]
          },
          "metadata": {},
          "execution_count": 53
        }
      ]
    },
    {
      "cell_type": "markdown",
      "source": [
        "Making prediction using torch.inference()\n",
        "\n",
        "To check our model's predictive power, let's see how well it predicts y_test based on the X_test when we pass data through our model, it's going to run it through the forward() method."
      ],
      "metadata": {
        "id": "DGLTYzPLrLxi"
      }
    },
    {
      "cell_type": "code",
      "source": [
        "# make predictions with model\n",
        "with torch.inference_mode():\n",
        "    y_preds = model(x_test)\n",
        "y_preds"
      ],
      "metadata": {
        "colab": {
          "base_uri": "https://localhost:8080/"
        },
        "id": "JCoe5j_MrAFc",
        "outputId": "e658111c-f6b6-4316-fa67-3d2f360e1e34"
      },
      "execution_count": null,
      "outputs": [
        {
          "output_type": "execute_result",
          "data": {
            "text/plain": [
              "tensor([[0.3982],\n",
              "        [0.4049],\n",
              "        [0.4116],\n",
              "        [0.4184],\n",
              "        [0.4251],\n",
              "        [0.4318],\n",
              "        [0.4386],\n",
              "        [0.4453],\n",
              "        [0.4520],\n",
              "        [0.4588]])"
            ]
          },
          "metadata": {},
          "execution_count": 54
        }
      ]
    },
    {
      "cell_type": "code",
      "source": [
        "y_test"
      ],
      "metadata": {
        "colab": {
          "base_uri": "https://localhost:8080/"
        },
        "id": "ss2NIgXAhRH5",
        "outputId": "ed4cd3b3-1a32-4152-d806-27c5720c3a85"
      },
      "execution_count": null,
      "outputs": [
        {
          "output_type": "execute_result",
          "data": {
            "text/plain": [
              "tensor([[0.8600],\n",
              "        [0.8740],\n",
              "        [0.8880],\n",
              "        [0.9020],\n",
              "        [0.9160],\n",
              "        [0.9300],\n",
              "        [0.9440],\n",
              "        [0.9580],\n",
              "        [0.9720],\n",
              "        [0.9860]])"
            ]
          },
          "metadata": {},
          "execution_count": 55
        }
      ]
    },
    {
      "cell_type": "code",
      "source": [
        "plot_predictions(predictions=y_preds)"
      ],
      "metadata": {
        "colab": {
          "base_uri": "https://localhost:8080/",
          "height": 460
        },
        "id": "7S9oVj5DsGSY",
        "outputId": "a7b8076e-88b2-4ac5-e9b6-667ca119792e"
      },
      "execution_count": null,
      "outputs": [
        {
          "output_type": "display_data",
          "data": {
            "text/plain": [
              "<Figure size 1000x700 with 1 Axes>"
            ],
            "image/png": "[encoded data removed]"
          },
          "metadata": {}
        }
      ]
    },
    {
      "cell_type": "markdown",
      "source": [
        "### Training thte model\n",
        "\n",
        "the whole idea of training is for a model to move from some unknown parameters ( these may be random) to some nown parameters or in other words from a poor representation of the data to a better representation of the data.\n",
        "one way to measure how poor or how wrong your models predictions are is to use a loss function.\n",
        "\n",
        "* Note: loss function may also be called cost function or criterian in different areas. for our case, we;re going to refer to it as a loss function\n",
        "\n",
        "Things we need to train.\n",
        "\n",
        "* **Loss Function: ** A function to measure how wrong your model's predictions are to the ideal outputs, lower is better\n",
        "\n",
        "* **Optimizer**. takes into account the loss of a model and adjusts the model's parameters (e;g weight & bias in our cased) to improve the loss function.\n",
        "\n",
        "And specifically for Pytorch we need\n",
        "* A training loop\n",
        "* A testing loop"
      ],
      "metadata": {
        "id": "NITpU47RT75Y"
      }
    },
    {
      "cell_type": "code",
      "source": [
        "list(model.parameters())"
      ],
      "metadata": {
        "colab": {
          "base_uri": "https://localhost:8080/"
        },
        "id": "O1Uhb4mOSjQC",
        "outputId": "f12e9f2e-1ed2-40fc-a235-1c5fe0a41901"
      },
      "execution_count": null,
      "outputs": [
        {
          "output_type": "execute_result",
          "data": {
            "text/plain": [
              "[Parameter containing:\n",
              " tensor([0.3367], requires_grad=True),\n",
              " Parameter containing:\n",
              " tensor([0.1288], requires_grad=True)]"
            ]
          },
          "metadata": {},
          "execution_count": 57
        }
      ]
    },
    {
      "cell_type": "code",
      "source": [
        "model.state_dict()"
      ],
      "metadata": {
        "colab": {
          "base_uri": "https://localhost:8080/"
        },
        "id": "hPdgsk6hWR3e",
        "outputId": "b75baf16-7f68-4bcd-d20b-536ead00d3aa"
      },
      "execution_count": null,
      "outputs": [
        {
          "output_type": "execute_result",
          "data": {
            "text/plain": [
              "OrderedDict([('weights', tensor([0.3367])), ('bias', tensor([0.1288]))])"
            ]
          },
          "metadata": {},
          "execution_count": 58
        }
      ]
    },
    {
      "cell_type": "code",
      "source": [],
      "metadata": {
        "id": "77EQueOJnV9e"
      },
      "execution_count": null,
      "outputs": []
    },
    {
      "cell_type": "code",
      "source": [
        "# set up a loss function\n",
        "loss_fn = nn.L1Loss() # measures how wrong our model is\n",
        "\n",
        "# setup an optimizer (stochastic gradient descent)\n",
        "optimizer = torch.optim.SGD(params=model.parameters(),\n",
        "                            lr=.01) # takes romdom numbers and randomly adjusts, it keeps increasing the weight until the weight no longer reduces the weight."
      ],
      "metadata": {
        "id": "LdeNaHa2XABb"
      },
      "execution_count": null,
      "outputs": []
    },
    {
      "cell_type": "markdown",
      "source": [
        "Q: which loss function and optimizer shuld i use?\n",
        "\n",
        "A: this will be problem specific. but with experience you'll get an idea of what works and what doesn't with your propblem set\n",
        "\n",
        "for instnace, for regression problem ( like ours) a loss function of nn.L1Loss() and an optimizer like torch.optim.SGD() will suffice\n",
        "\n",
        "but for classification problem like classifying whether a photo is of a dog or a cat, you'll likely want to use the loss function of nn.BCELoss()(binary cross entropy)"
      ],
      "metadata": {
        "id": "g2yC9tkAZTTa"
      }
    },
    {
      "cell_type": "markdown",
      "source": [
        "## Building a training loop ( and a testing loop ) in pytorch.\n",
        "\n",
        "A couple of things we need in a training loop.\n",
        "\n",
        "0. Loop through the data\n",
        "1. forward pass ( this involves data moving through our model's forward() functions- also called forward propagation\n",
        "\n",
        "2. calculate the loss ( compare pass predictions to group truth labels\n",
        "3. optimizers zero grad\n",
        "4. loss backward - move backwards through the network to calculate the gradients of each of the parameters of our model with resoect to the loss.\n",
        "5. optimizers step - use the optimizer to adjust our model \\'s parameters to try and improve the loss\n",
        "\n",
        "\n",
        "Q: whats is a gradient?\n",
        "A: is a slope of a line meaning a change in y over a change in x.\n",
        "\n",
        "in our case if the gradient of the loss equals zero"
      ],
      "metadata": {
        "id": "koyOseumecuc"
      }
    },
    {
      "cell_type": "code",
      "source": [
        "torch.manual_seed(42)\n",
        "\n",
        "# An epoch is one loop through the  data...\n",
        "epochs = 200\n",
        "# track different values\n",
        "\n",
        "epoch_count = []\n",
        "loss_values = []\n",
        "test_loss_values = []\n",
        "\n",
        "\n",
        "# 0. Loop through the data\n",
        "for epoch in range(epochs):\n",
        "  # set the model to training mode\n",
        "  model.train() # training mode in Pytorch are sets all parameters that rewuire gradient to\n",
        "# 1. forward pass\n",
        "  y_preds = model(x_train)\n",
        "\n",
        "# 2. calculate the loss\n",
        "  loss = loss_fn(y_preds, y_train)\n",
        "  print(f\"loss: {loss}\")\n",
        "\n",
        "# 3. optimizer zero gradient\n",
        "  optimizer.zero_grad() #\n",
        "# 4. perform backpropagation on the loss with respect to the parameters of the   loss backward\n",
        "  loss_fn(y_preds, y_train).backward()\n",
        "\n",
        "#5. step the optimizer ( perform gradient descent)\n",
        "\n",
        "  optimizer.step() # by default how the optimizer changes will accumilate through the loop so... we have zero then above in the step 3 for the next iteration\n",
        "### TESTING\n",
        "  model.eval() # turns off different setting in the model not needed for evaluation/testing\n",
        "  with torch.inference_mode(): #turns off gradient tracking and a couple more things behind the scenes\n",
        "    # 1. do the forward pass\n",
        "    test_preds = model(x_test)\n",
        "    # 2. calculate the loss\n",
        "    test_loss = loss_fn(test_preds, y_test)\n",
        "    # print out what is happening\n",
        "  if epoch % 10 == 0:\n",
        "    epoch_count.append(epoch)\n",
        "    loss_values.append(loss)\n",
        "    test_loss_values.append(test_loss)\n",
        "    print(f\"epoch: {epoch} | loss: {loss} | test loss: {test_loss}\")\n",
        "\n",
        " # print out model state_dict()\n",
        "    print(model.state_dict())"
      ],
      "metadata": {
        "colab": {
          "base_uri": "https://localhost:8080/"
        },
        "id": "PCw277FNZPsR",
        "outputId": "efe2fe34-fac0-4607-90e8-a0a2a754fa35"
      },
      "execution_count": null,
      "outputs": [
        {
          "output_type": "stream",
          "name": "stdout",
          "text": [
            "loss: 0.31288138031959534\n",
            "epoch: 0 | loss: 0.31288138031959534 | test loss: 0.48106518387794495\n",
            "OrderedDict([('weights', tensor([0.3406])), ('bias', tensor([0.1388]))])\n",
            "loss: 0.3013603389263153\n",
            "loss: 0.28983935713768005\n",
            "loss: 0.2783183455467224\n",
            "loss: 0.26679736375808716\n",
            "loss: 0.2552763521671295\n",
            "loss: 0.24375534057617188\n",
            "loss: 0.23223432898521423\n",
            "loss: 0.22071333229541779\n",
            "loss: 0.20919232070446014\n",
            "loss: 0.1976713240146637\n",
            "epoch: 10 | loss: 0.1976713240146637 | test loss: 0.3463551998138428\n",
            "OrderedDict([('weights', tensor([0.3796])), ('bias', tensor([0.2388]))])\n",
            "loss: 0.18615034222602844\n",
            "loss: 0.1746293306350708\n",
            "loss: 0.16310831904411316\n",
            "loss: 0.1515873372554779\n",
            "loss: 0.14006635546684265\n",
            "loss: 0.1285453587770462\n",
            "loss: 0.11702437698841095\n",
            "loss: 0.1060912236571312\n",
            "loss: 0.09681284427642822\n",
            "loss: 0.08908725529909134\n",
            "epoch: 20 | loss: 0.08908725529909134 | test loss: 0.21729660034179688\n",
            "OrderedDict([('weights', tensor([0.4184])), ('bias', tensor([0.3333]))])\n",
            "loss: 0.08227583020925522\n",
            "loss: 0.07638873159885406\n",
            "loss: 0.07160007208585739\n",
            "loss: 0.06747635453939438\n",
            "loss: 0.06395438313484192\n",
            "loss: 0.06097004935145378\n",
            "loss: 0.05845819041132927\n",
            "loss: 0.05635259300470352\n",
            "loss: 0.0545857772231102\n",
            "loss: 0.053148526698350906\n",
            "epoch: 30 | loss: 0.053148526698350906 | test loss: 0.14464017748832703\n",
            "OrderedDict([('weights', tensor([0.4512])), ('bias', tensor([0.3768]))])\n",
            "loss: 0.05181945487856865\n",
            "loss: 0.05069301277399063\n",
            "loss: 0.0498228520154953\n",
            "loss: 0.04895269125699997\n",
            "loss: 0.04819351062178612\n",
            "loss: 0.047531817108392715\n",
            "loss: 0.04692792519927025\n",
            "loss: 0.04642331600189209\n",
            "loss: 0.04591871052980423\n",
            "loss: 0.04543796554207802\n",
            "epoch: 40 | loss: 0.04543796554207802 | test loss: 0.11360953003168106\n",
            "OrderedDict([('weights', tensor([0.4748])), ('bias', tensor([0.3868]))])\n",
            "loss: 0.04503796249628067\n",
            "loss: 0.04463795945048332\n",
            "loss: 0.04423796385526657\n",
            "loss: 0.04383796453475952\n",
            "loss: 0.04343796148896217\n",
            "loss: 0.043074630200862885\n",
            "loss: 0.04272563382983208\n",
            "loss: 0.04237663000822067\n",
            "loss: 0.04202762991189957\n",
            "loss: 0.04167863354086876\n",
            "epoch: 50 | loss: 0.04167863354086876 | test loss: 0.09919948130846024\n",
            "OrderedDict([('weights', tensor([0.4938])), ('bias', tensor([0.3843]))])\n",
            "loss: 0.04132963344454765\n",
            "loss: 0.04098063334822655\n",
            "loss: 0.04063162952661514\n",
            "loss: 0.040282636880874634\n",
            "loss: 0.039933640509843826\n",
            "loss: 0.03958464413881302\n",
            "loss: 0.03923564404249191\n",
            "loss: 0.03888664394617081\n",
            "loss: 0.0385376438498497\n",
            "loss: 0.03818932920694351\n",
            "epoch: 60 | loss: 0.03818932920694351 | test loss: 0.08886633068323135\n",
            "OrderedDict([('weights', tensor([0.5116])), ('bias', tensor([0.3788]))])\n",
            "loss: 0.03785243630409241\n",
            "loss: 0.0375034399330616\n",
            "loss: 0.037164121866226196\n",
            "loss: 0.03681822493672371\n",
            "loss: 0.03647511452436447\n",
            "loss: 0.03613303601741791\n",
            "loss: 0.03578609973192215\n",
            "loss: 0.03544783592224121\n",
            "loss: 0.035098835825920105\n",
            "loss: 0.03476089984178543\n",
            "epoch: 70 | loss: 0.03476089984178543 | test loss: 0.0805937647819519\n",
            "OrderedDict([('weights', tensor([0.5288])), ('bias', tensor([0.3718]))])\n",
            "loss: 0.03441363573074341\n",
            "loss: 0.03407188132405281\n",
            "loss: 0.03372843936085701\n",
            "loss: 0.03338287025690079\n",
            "loss: 0.033043231815099716\n",
            "loss: 0.03269423171877861\n",
            "loss: 0.032357655465602875\n",
            "loss: 0.03200903534889221\n",
            "loss: 0.03166864812374115\n",
            "loss: 0.03132382780313492\n",
            "epoch: 80 | loss: 0.03132382780313492 | test loss: 0.07232122868299484\n",
            "OrderedDict([('weights', tensor([0.5459])), ('bias', tensor([0.3648]))])\n",
            "loss: 0.030979642644524574\n",
            "loss: 0.030638623982667923\n",
            "loss: 0.0302906334400177\n",
            "loss: 0.029953425750136375\n",
            "loss: 0.02960442565381527\n",
            "loss: 0.029265418648719788\n",
            "loss: 0.028919223695993423\n",
            "loss: 0.028576409444212914\n",
            "loss: 0.028234025463461876\n",
            "loss: 0.02788739837706089\n",
            "epoch: 90 | loss: 0.02788739837706089 | test loss: 0.06473556160926819\n",
            "OrderedDict([('weights', tensor([0.5629])), ('bias', tensor([0.3573]))])\n",
            "loss: 0.02754882536828518\n",
            "loss: 0.027199819684028625\n",
            "loss: 0.026862185448408127\n",
            "loss: 0.02651461586356163\n",
            "loss: 0.026173178106546402\n",
            "loss: 0.025829419493675232\n",
            "loss: 0.02548416517674923\n",
            "loss: 0.025144213810563087\n",
            "loss: 0.02479521557688713\n",
            "loss: 0.024458957836031914\n",
            "epoch: 100 | loss: 0.024458957836031914 | test loss: 0.05646304413676262\n",
            "OrderedDict([('weights', tensor([0.5800])), ('bias', tensor([0.3503]))])\n",
            "loss: 0.024110013619065285\n",
            "loss: 0.02376994863152504\n",
            "loss: 0.02342480979859829\n",
            "loss: 0.023080935701727867\n",
            "loss: 0.022739607840776443\n",
            "loss: 0.022391926497220993\n",
            "loss: 0.022054409608244896\n",
            "loss: 0.02170540764927864\n",
            "loss: 0.021366719156503677\n",
            "loss: 0.021020207554101944\n",
            "epoch: 110 | loss: 0.021020207554101944 | test loss: 0.04819049686193466\n",
            "OrderedDict([('weights', tensor([0.5972])), ('bias', tensor([0.3433]))])\n",
            "loss: 0.020677709951996803\n",
            "loss: 0.02033500373363495\n",
            "loss: 0.01998869702219963\n",
            "loss: 0.019649803638458252\n",
            "loss: 0.019300809130072594\n",
            "loss: 0.018963487818837166\n",
            "loss: 0.01861560344696045\n",
            "loss: 0.018274478614330292\n",
            "loss: 0.017930403351783752\n",
            "loss: 0.01758546568453312\n",
            "epoch: 120 | loss: 0.01758546568453312 | test loss: 0.04060482233762741\n",
            "OrderedDict([('weights', tensor([0.6141])), ('bias', tensor([0.3358]))])\n",
            "loss: 0.017245199531316757\n",
            "loss: 0.016896454617381096\n",
            "loss: 0.01656000316143036\n",
            "loss: 0.016210997477173805\n",
            "loss: 0.01587124727666378\n",
            "loss: 0.015525798313319683\n",
            "loss: 0.015182236209511757\n",
            "loss: 0.014840595424175262\n",
            "loss: 0.01449323259294033\n",
            "loss: 0.014155393466353416\n",
            "epoch: 130 | loss: 0.014155393466353416 | test loss: 0.03233227878808975\n",
            "OrderedDict([('weights', tensor([0.6313])), ('bias', tensor([0.3288]))])\n",
            "loss: 0.013806397095322609\n",
            "loss: 0.013468016870319843\n",
            "loss: 0.013121193274855614\n",
            "loss: 0.01277900766581297\n",
            "loss: 0.012435992248356342\n",
            "loss: 0.01208999752998352\n",
            "loss: 0.011750795878469944\n",
            "loss: 0.011401787400245667\n",
            "loss: 0.011064787395298481\n",
            "loss: 0.010716589167714119\n",
            "epoch: 140 | loss: 0.010716589167714119 | test loss: 0.024059748277068138\n",
            "OrderedDict([('weights', tensor([0.6485])), ('bias', tensor([0.3218]))])\n",
            "loss: 0.010375778190791607\n",
            "loss: 0.010031387209892273\n",
            "loss: 0.009686763398349285\n",
            "loss: 0.009346187114715576\n",
            "loss: 0.008997755125164986\n",
            "loss: 0.008660981431603432\n",
            "loss: 0.008311985060572624\n",
            "loss: 0.007972544990479946\n",
            "loss: 0.007626785431057215\n",
            "loss: 0.0072835334576666355\n",
            "epoch: 150 | loss: 0.0072835334576666355 | test loss: 0.016474086791276932\n",
            "OrderedDict([('weights', tensor([0.6654])), ('bias', tensor([0.3143]))])\n",
            "loss: 0.006941580679267645\n",
            "loss: 0.006594526115804911\n",
            "loss: 0.006256377790123224\n",
            "loss: 0.005907376762479544\n",
            "loss: 0.005569315515458584\n",
            "loss: 0.005222178064286709\n",
            "loss: 0.004880306776612997\n",
            "loss: 0.004536976106464863\n",
            "loss: 0.00419129803776741\n",
            "loss: 0.0038517764769494534\n",
            "epoch: 160 | loss: 0.0038517764769494534 | test loss: 0.008201557211577892\n",
            "OrderedDict([('weights', tensor([0.6826])), ('bias', tensor([0.3073]))])\n",
            "loss: 0.0035027749836444855\n",
            "loss: 0.0031660839449614286\n",
            "loss: 0.002817571861669421\n",
            "loss: 0.0024770735763013363\n",
            "loss: 0.0021323717664927244\n",
            "loss: 0.0017880648374557495\n",
            "loss: 0.0014518328243866563\n",
            "loss: 0.0011887758737429976\n",
            "loss: 0.0025885067880153656\n",
            "loss: 0.008932482451200485\n",
            "epoch: 170 | loss: 0.008932482451200485 | test loss: 0.005023092031478882\n",
            "OrderedDict([('weights', tensor([0.6951])), ('bias', tensor([0.2993]))])\n",
            "loss: 0.0025885067880153656\n",
            "loss: 0.008932482451200485\n",
            "loss: 0.0025885067880153656\n",
            "loss: 0.008932482451200485\n",
            "loss: 0.0025885067880153656\n",
            "loss: 0.008932482451200485\n",
            "loss: 0.0025885067880153656\n",
            "loss: 0.008932482451200485\n",
            "loss: 0.0025885067880153656\n",
            "loss: 0.008932482451200485\n",
            "epoch: 180 | loss: 0.008932482451200485 | test loss: 0.005023092031478882\n",
            "OrderedDict([('weights', tensor([0.6951])), ('bias', tensor([0.2993]))])\n",
            "loss: 0.0025885067880153656\n",
            "loss: 0.008932482451200485\n",
            "loss: 0.0025885067880153656\n",
            "loss: 0.008932482451200485\n",
            "loss: 0.0025885067880153656\n",
            "loss: 0.008932482451200485\n",
            "loss: 0.0025885067880153656\n",
            "loss: 0.008932482451200485\n",
            "loss: 0.0025885067880153656\n",
            "loss: 0.008932482451200485\n",
            "epoch: 190 | loss: 0.008932482451200485 | test loss: 0.005023092031478882\n",
            "OrderedDict([('weights', tensor([0.6951])), ('bias', tensor([0.2993]))])\n",
            "loss: 0.0025885067880153656\n",
            "loss: 0.008932482451200485\n",
            "loss: 0.0025885067880153656\n",
            "loss: 0.008932482451200485\n",
            "loss: 0.0025885067880153656\n",
            "loss: 0.008932482451200485\n",
            "loss: 0.0025885067880153656\n",
            "loss: 0.008932482451200485\n",
            "loss: 0.0025885067880153656\n"
          ]
        }
      ]
    },
    {
      "cell_type": "code",
      "source": [],
      "metadata": {
        "id": "Mz4Tz_74qn4I"
      },
      "execution_count": null,
      "outputs": []
    },
    {
      "cell_type": "code",
      "source": [
        "import numpy as np\n",
        "np.array(torch.tensor(loss_values).cpu().numpy()), test_loss_values"
      ],
      "metadata": {
        "colab": {
          "base_uri": "https://localhost:8080/"
        },
        "id": "W2i2kJDCQUi8",
        "outputId": "6e950550-43a5-423c-be22-90403a0eeced"
      },
      "execution_count": null,
      "outputs": [
        {
          "output_type": "execute_result",
          "data": {
            "text/plain": [
              "(array([0.31288138, 0.19767132, 0.08908726, 0.05314853, 0.04543797,\n",
              "        0.04167863, 0.03818933, 0.0347609 , 0.03132383, 0.0278874 ,\n",
              "        0.02445896, 0.02102021, 0.01758547, 0.01415539, 0.01071659,\n",
              "        0.00728353, 0.00385178, 0.00893248, 0.00893248, 0.00893248],\n",
              "       dtype=float32),\n",
              " [tensor(0.4811),\n",
              "  tensor(0.3464),\n",
              "  tensor(0.2173),\n",
              "  tensor(0.1446),\n",
              "  tensor(0.1136),\n",
              "  tensor(0.0992),\n",
              "  tensor(0.0889),\n",
              "  tensor(0.0806),\n",
              "  tensor(0.0723),\n",
              "  tensor(0.0647),\n",
              "  tensor(0.0565),\n",
              "  tensor(0.0482),\n",
              "  tensor(0.0406),\n",
              "  tensor(0.0323),\n",
              "  tensor(0.0241),\n",
              "  tensor(0.0165),\n",
              "  tensor(0.0082),\n",
              "  tensor(0.0050),\n",
              "  tensor(0.0050),\n",
              "  tensor(0.0050)])"
            ]
          },
          "metadata": {},
          "execution_count": 61
        }
      ]
    },
    {
      "cell_type": "code",
      "source": [],
      "metadata": {
        "id": "JmOgMtsjSMp2"
      },
      "execution_count": null,
      "outputs": []
    },
    {
      "cell_type": "code",
      "source": [
        "# plot the loss curve\n",
        "plt.plot(epoch_count, np.array(torch.tensor(loss_values).cpu().numpy()), label=\"Train loss\")\n",
        "plt.plot(epoch_count, test_loss_values, label=\"Test Loss\")\n",
        "plt.title(\" Training and test loss curves \")\n",
        "plt.ylabel(\"Loss\")\n",
        "plt.xlabel(\"Epochs\")\n",
        "plt.legend();"
      ],
      "metadata": {
        "colab": {
          "base_uri": "https://localhost:8080/",
          "height": 472
        },
        "id": "8WzMFae9PGby",
        "outputId": "feb14968-1061-4bcc-8cf5-08cd7f4926ed"
      },
      "execution_count": null,
      "outputs": [
        {
          "output_type": "display_data",
          "data": {
            "text/plain": [
              "<Figure size 640x480 with 1 Axes>"
            ],
            "image/png": "[encoded data removed]"
          },
          "metadata": {}
        }
      ]
    },
    {
      "cell_type": "code",
      "source": [
        "with torch.inference_mode():\n",
        "  y_preds = model(x_test)\n"
      ],
      "metadata": {
        "id": "YvJt1UCFMADv"
      },
      "execution_count": null,
      "outputs": []
    },
    {
      "cell_type": "code",
      "source": [
        "model.state_dict()"
      ],
      "metadata": {
        "colab": {
          "base_uri": "https://localhost:8080/"
        },
        "id": "1gWBmji7rnrW",
        "outputId": "ff038295-66ca-44da-d91b-05894f508e13"
      },
      "execution_count": null,
      "outputs": [
        {
          "output_type": "execute_result",
          "data": {
            "text/plain": [
              "OrderedDict([('weights', tensor([0.6990])), ('bias', tensor([0.3093]))])"
            ]
          },
          "metadata": {},
          "execution_count": 64
        }
      ]
    },
    {
      "cell_type": "code",
      "source": [
        "weight, bias"
      ],
      "metadata": {
        "colab": {
          "base_uri": "https://localhost:8080/"
        },
        "id": "WFHbONelOwnI",
        "outputId": "2c55fc9a-6352-4c7f-8b9f-0e0ec6af3538"
      },
      "execution_count": null,
      "outputs": [
        {
          "output_type": "execute_result",
          "data": {
            "text/plain": [
              "(0.7, 0.3)"
            ]
          },
          "metadata": {},
          "execution_count": 65
        }
      ]
    },
    {
      "cell_type": "code",
      "source": [
        " plot_predictions(predictions=y_preds);"
      ],
      "metadata": {
        "colab": {
          "base_uri": "https://localhost:8080/",
          "height": 460
        },
        "id": "lgrePEjiOznc",
        "outputId": "7aa6758b-5d8b-4a1d-925b-3746c1191c69"
      },
      "execution_count": null,
      "outputs": [
        {
          "output_type": "display_data",
          "data": {
            "text/plain": [
              "<Figure size 1000x700 with 1 Axes>"
            ],
            "image/png": "[encoded data removed]"
          },
          "metadata": {}
        }
      ]
    },
    {
      "cell_type": "markdown",
      "source": [
        "### Saving the model in Pytorch"
      ],
      "metadata": {
        "id": "XARYU7xrYVuE"
      }
    },
    {
      "cell_type": "markdown",
      "source": [
        "There are three main methods you should go about for saving and loading models in pytorch.\n",
        "\n",
        "1. torch.save() - allows you to save a pytorch object in python's pickle format\n",
        "2. torch.load() - allows you to load and save pytorch object\n",
        "3. torch.nn.module.load_state_dict() - this allows to load a model's saved state dictionary."
      ],
      "metadata": {
        "id": "WDq4yXFhYk88"
      }
    },
    {
      "cell_type": "code",
      "source": [],
      "metadata": {
        "id": "HToyziKoh3ZT"
      },
      "execution_count": null,
      "outputs": []
    },
    {
      "cell_type": "code",
      "source": [
        "## saving our Pytorch model\n",
        "\n",
        "from pathlib import Path\n",
        "import torch\n",
        "\n",
        "# 1. create models directory (no leading space!)\n",
        "MODEL_PATH = Path(\"models\")\n",
        "MODEL_PATH.mkdir(parents=True, exist_ok=True)\n",
        "\n",
        "# 2. define a filename\n",
        "MODEL_NAME = \"o1_pytorch_workflow_model.pth\"   # fixed typo in “pytorch” if you like\n",
        "MODEL_SAVE_PATH = MODEL_PATH / MODEL_NAME\n",
        "\n",
        "# 3. save the model’s state dict\n",
        "torch.save(model.state_dict(), MODEL_SAVE_PATH)\n",
        "print(f\"✅ Saved model to: {MODEL_SAVE_PATH}\")\n"
      ],
      "metadata": {
        "colab": {
          "base_uri": "https://localhost:8080/"
        },
        "id": "7y0WXJzoYLHC",
        "outputId": "45eb93d5-4524-40f8-fdc3-b2c8305d4515"
      },
      "execution_count": null,
      "outputs": [
        {
          "output_type": "stream",
          "name": "stdout",
          "text": [
            "✅ Saved model to: models/o1_pytorch_workflow_model.pth\n"
          ]
        }
      ]
    },
    {
      "cell_type": "markdown",
      "source": [
        "### Loading a PyTorch model\n",
        "\n",
        "since we saved our model's state_dict() rather the entire model, we'll create a new instance of our model class and state_dict() into that."
      ],
      "metadata": {
        "id": "XGjfemrL83qj"
      }
    },
    {
      "cell_type": "code",
      "source": [
        "model.state_dict()"
      ],
      "metadata": {
        "colab": {
          "base_uri": "https://localhost:8080/"
        },
        "id": "J0JGk6NM9gHm",
        "outputId": "63cb7547-30c4-452f-a31d-5f37b6f5095c"
      },
      "execution_count": null,
      "outputs": [
        {
          "output_type": "execute_result",
          "data": {
            "text/plain": [
              "OrderedDict([('weights', tensor([0.6990])), ('bias', tensor([0.3093]))])"
            ]
          },
          "metadata": {},
          "execution_count": 68
        }
      ]
    },
    {
      "cell_type": "code",
      "source": [
        "# to load in a saved state_dict we have to instantiate a new instance of\n",
        "# our model class\n",
        "loaded_model = LinearRegressionModel()\n",
        "\n",
        "# load the saved state_dict of model ( this will update the new instance with updated parameter)\n",
        "loaded_model.load_state_dict(torch.load(f=MODEL_SAVE_PATH))\n"
      ],
      "metadata": {
        "colab": {
          "base_uri": "https://localhost:8080/"
        },
        "id": "Hp-Q302C-b0z",
        "outputId": "ce61fbae-8043-47c1-f2ee-381e7966d607"
      },
      "execution_count": null,
      "outputs": [
        {
          "output_type": "execute_result",
          "data": {
            "text/plain": [
              "<All keys matched successfully>"
            ]
          },
          "metadata": {},
          "execution_count": 69
        }
      ]
    },
    {
      "cell_type": "code",
      "source": [
        "loaded_model.state_dict()"
      ],
      "metadata": {
        "colab": {
          "base_uri": "https://localhost:8080/"
        },
        "id": "I0B-UhjqCUzb",
        "outputId": "ad1e0ec4-d262-4254-ca7d-7b281be0a9fc"
      },
      "execution_count": null,
      "outputs": [
        {
          "output_type": "execute_result",
          "data": {
            "text/plain": [
              "OrderedDict([('weights', tensor([0.6990])), ('bias', tensor([0.3093]))])"
            ]
          },
          "metadata": {},
          "execution_count": 70
        }
      ]
    },
    {
      "cell_type": "code",
      "source": [
        "# Make some predictions with our loaded model\n",
        "loaded_model.eval()\n",
        "\n",
        "with torch.inference_mode():\n",
        "  loaded_model_preds = loaded_model(x_test)\n",
        "loaded_model_preds"
      ],
      "metadata": {
        "colab": {
          "base_uri": "https://localhost:8080/"
        },
        "id": "v-g0w7_yCa3t",
        "outputId": "3119ab67-942a-436f-9a2a-3dfad96864d8"
      },
      "execution_count": null,
      "outputs": [
        {
          "output_type": "execute_result",
          "data": {
            "text/plain": [
              "tensor([[0.8685],\n",
              "        [0.8825],\n",
              "        [0.8965],\n",
              "        [0.9105],\n",
              "        [0.9245],\n",
              "        [0.9384],\n",
              "        [0.9524],\n",
              "        [0.9664],\n",
              "        [0.9804],\n",
              "        [0.9944]])"
            ]
          },
          "metadata": {},
          "execution_count": 71
        }
      ]
    },
    {
      "cell_type": "code",
      "source": [
        "# compare loaded model preds with original model preds\n",
        "y_preds == loaded_model_preds"
      ],
      "metadata": {
        "colab": {
          "base_uri": "https://localhost:8080/"
        },
        "id": "P6q3GcM1DB3W",
        "outputId": "561f57e0-b16c-4ba8-8d70-5b410254f4e0"
      },
      "execution_count": null,
      "outputs": [
        {
          "output_type": "execute_result",
          "data": {
            "text/plain": [
              "tensor([[True],\n",
              "        [True],\n",
              "        [True],\n",
              "        [True],\n",
              "        [True],\n",
              "        [True],\n",
              "        [True],\n",
              "        [True],\n",
              "        [True],\n",
              "        [True]])"
            ]
          },
          "metadata": {},
          "execution_count": 72
        }
      ]
    },
    {
      "cell_type": "markdown",
      "source": [
        "### Putting it all together\n",
        "\n",
        "lets go back through all the steps above and see it in place"
      ],
      "metadata": {
        "id": "e_nX-SofXpoj"
      }
    },
    {
      "cell_type": "code",
      "source": [
        "1# import Pytorch and matplotlit\n",
        "import torch\n",
        "from torch import nn\n",
        "import matplotlib.pyplot as plt\n",
        "# check Pytorch version\n",
        "torch.__version__"
      ],
      "metadata": {
        "colab": {
          "base_uri": "https://localhost:8080/",
          "height": 35
        },
        "id": "173wBvd4YKKx",
        "outputId": "121bdbe9-83f1-43a5-8899-058e55e9e0b9"
      },
      "execution_count": null,
      "outputs": [
        {
          "output_type": "execute_result",
          "data": {
            "text/plain": [
              "'2.6.0+cu124'"
            ],
            "application/vnd.google.colaboratory.intrinsic+json": {
              "type": "string"
            }
          },
          "metadata": {},
          "execution_count": 73
        }
      ]
    },
    {
      "cell_type": "markdown",
      "source": [
        "## create device agnostic code\n",
        "\n",
        "this means id we're got access to GPU , our code will use it ( for potential faster computoong )\n",
        "\n",
        "if no gpu is available thte code will default to using GPU"
      ],
      "metadata": {
        "id": "C6bQoO9EYbsD"
      }
    },
    {
      "cell_type": "code",
      "source": [
        "# set device agnostic code\n",
        "\n",
        "device = \"cuda\" if torch.cuda.is_available() else \"cpu\"\n",
        "print(f\"devicce: {device}\")\n"
      ],
      "metadata": {
        "colab": {
          "base_uri": "https://localhost:8080/"
        },
        "id": "ZbeS7Cm2YyIJ",
        "outputId": "5c9c0005-3ac3-43bd-b53f-9c91cad078ba"
      },
      "execution_count": null,
      "outputs": [
        {
          "output_type": "stream",
          "name": "stdout",
          "text": [
            "devicce: cuda\n"
          ]
        }
      ]
    },
    {
      "cell_type": "markdown",
      "source": [
        "### 6.1 Data"
      ],
      "metadata": {
        "id": "Zo8nprmdYFV1"
      }
    },
    {
      "cell_type": "code",
      "source": [
        "1 # create some data using the linwar regression formula of y = weight * x + bias\n",
        "\n",
        "weight = .7\n",
        "bias = .3\n",
        "\n",
        "# create range values\n",
        "\n",
        "start = 0\n",
        "end = 1\n",
        "step = .02\n",
        "# create x and y ( features and labels)\n",
        "x + torch.arange(start, end, step).unsqueeze(dim=1) # without unqueeze, errors will pop up\n",
        "y = weight * x + bias\n",
        "x[:10], y[:10]"
      ],
      "metadata": {
        "colab": {
          "base_uri": "https://localhost:8080/"
        },
        "id": "b3yIAUujZ8zZ",
        "outputId": "c5c83bb8-ffd6-4b12-d342-d1278caeee50"
      },
      "execution_count": null,
      "outputs": [
        {
          "output_type": "execute_result",
          "data": {
            "text/plain": [
              "(tensor([[0.0000],\n",
              "         [0.0200],\n",
              "         [0.0400],\n",
              "         [0.0600],\n",
              "         [0.0800],\n",
              "         [0.1000],\n",
              "         [0.1200],\n",
              "         [0.1400],\n",
              "         [0.1600],\n",
              "         [0.1800]]),\n",
              " tensor([[0.3000],\n",
              "         [0.3140],\n",
              "         [0.3280],\n",
              "         [0.3420],\n",
              "         [0.3560],\n",
              "         [0.3700],\n",
              "         [0.3840],\n",
              "         [0.3980],\n",
              "         [0.4120],\n",
              "         [0.4260]]))"
            ]
          },
          "metadata": {},
          "execution_count": 75
        }
      ]
    },
    {
      "cell_type": "code",
      "source": [
        "# split data\n",
        "train_split = int(.8 * len(x))\n",
        "x_train, y_train = x[:train_split], y[:train_split]\n",
        "x_test, y_test = x[train_split:], y[train_split:]\n",
        "len(x_train), len(y_train), len(x_test), len(y_test)"
      ],
      "metadata": {
        "colab": {
          "base_uri": "https://localhost:8080/"
        },
        "id": "WolTgtfxbRhm",
        "outputId": "5a6488b0-ea76-4035-c22f-3ceafd88ce33"
      },
      "execution_count": null,
      "outputs": [
        {
          "output_type": "execute_result",
          "data": {
            "text/plain": [
              "(40, 40, 10, 10)"
            ]
          },
          "metadata": {},
          "execution_count": 76
        }
      ]
    },
    {
      "cell_type": "code",
      "source": [
        "# plot the data\n",
        "# note: if you dont have the plot_predictions() function loaded, this will error\n",
        "plot_predictions(x_train, y_train, x_test, y_test)"
      ],
      "metadata": {
        "colab": {
          "base_uri": "https://localhost:8080/",
          "height": 460
        },
        "id": "LjY8R9JVcgQx",
        "outputId": "ca404ee4-ccb0-4d7a-95cb-22b416551758"
      },
      "execution_count": null,
      "outputs": [
        {
          "output_type": "display_data",
          "data": {
            "text/plain": [
              "<Figure size 1000x700 with 1 Axes>"
            ],
            "image/png": "[encoded data removed]"
          },
          "metadata": {}
        }
      ]
    },
    {
      "cell_type": "markdown",
      "source": [
        "### 6.2 Building a PYtorch Linear model"
      ],
      "metadata": {
        "id": "-QgSJaW_dJDx"
      }
    },
    {
      "cell_type": "code",
      "source": [
        "# create a linear model by subclassing nn.module\n",
        "\n",
        "class LinearRegressionModelV2(nn.Module):\n",
        "  def __init__(self):\n",
        "    super().__init__()\n",
        "\n",
        "    # use nn.Linear() for crreating model parameters\n",
        "    self.linear_layer = nn.Linear(in_features=1,\n",
        "                                   out_features=1)\n",
        "\n",
        "  def forward(self, x):\n",
        "    return self.linear_layer(x)\n",
        "\n",
        "torch.manual_seed(42)\n",
        "model_1 = LinearRegressionModelV2()\n",
        "\n",
        "device = torch.device(\"cuda:0\") if torch.cuda.is_available() else torch.device(\"cpu\")\n",
        "model_1 = model_1.to(device)\n",
        "print(\"After moving  →\", next(model_1.parameters()).device)\n"
      ],
      "metadata": {
        "colab": {
          "base_uri": "https://localhost:8080/"
        },
        "id": "71xJ5010dQmZ",
        "outputId": "4d357537-1018-40fd-cc39-7c400860e0e8"
      },
      "execution_count": null,
      "outputs": [
        {
          "output_type": "stream",
          "name": "stdout",
          "text": [
            "After moving  → cuda:0\n"
          ]
        }
      ]
    },
    {
      "cell_type": "code",
      "source": [
        "#check the model current device\n",
        "next(model_1.parameters()).device"
      ],
      "metadata": {
        "colab": {
          "base_uri": "https://localhost:8080/"
        },
        "id": "59cH_0dZg1Al",
        "outputId": "3a1719a2-d8df-4759-bd55-7421af51e337"
      },
      "execution_count": null,
      "outputs": [
        {
          "output_type": "execute_result",
          "data": {
            "text/plain": [
              "device(type='cuda', index=0)"
            ]
          },
          "metadata": {},
          "execution_count": 79
        }
      ]
    },
    {
      "cell_type": "code",
      "source": [
        "## set the model to use the target device\n",
        "model_1 = model_1.to(device)\n",
        "\n",
        "next(model_1.parameters()).device\n",
        "\n"
      ],
      "metadata": {
        "colab": {
          "base_uri": "https://localhost:8080/"
        },
        "id": "O0npe72FghW1",
        "outputId": "d3f0437e-990f-4d21-e3b1-d00ae8ee42f1"
      },
      "execution_count": null,
      "outputs": [
        {
          "output_type": "execute_result",
          "data": {
            "text/plain": [
              "device(type='cuda', index=0)"
            ]
          },
          "metadata": {},
          "execution_count": 80
        }
      ]
    },
    {
      "cell_type": "markdown",
      "source": [
        "### Traing the model\n",
        "\n",
        "for training we need:\n",
        "* Loss Function\n",
        "* Optimizer\n",
        "* Training Loop\n",
        "* testing Loop\n"
      ],
      "metadata": {
        "id": "YgAm5P62hmqq"
      }
    },
    {
      "cell_type": "code",
      "source": [
        "# setup loss function\n",
        "\n",
        "loss_fn = nn.L1Loss()\n",
        "# setup an optimizer\n",
        "optimizer = torch.optim.SGD(params=model_1.parameters(),\n",
        "                                                lr=.01 )\n"
      ],
      "metadata": {
        "id": "MBS7cg4phbSj"
      },
      "execution_count": null,
      "outputs": []
    },
    {
      "cell_type": "code",
      "source": [
        "# Lets write a training loop\n",
        "torch.manual_seed(42)\n",
        "\n",
        "epochs = 200\n",
        "# put data on the target device ( device agnostic code for data )\n",
        "x_train = x_train.to(device)\n",
        "y_train = y_train.to(device)\n",
        "x_test = x_test.to(device)\n",
        "y_test = y_test.to(device)\n",
        "\n",
        "for epoch in range(epochs):\n",
        "  model_1.train()\n",
        "  #1. Forward pass\n",
        "  y_pred = model_1(x_train)\n",
        "\n",
        "  #2. calculate the loss\n",
        "\n",
        "  loss = loss_fn(y_pred, y_train)\n",
        "  # 3. optiimizer zero grad\n",
        "\n",
        "  optimizer.zero_grad()\n",
        "  #4. perform backpropogation\n",
        "  loss.backward()\n",
        "\n",
        "  #5. optimizer step\n",
        "  optimizer.step()\n",
        "\n",
        "\n",
        "### Testing\n",
        "\n",
        "  model_1.eval()\n",
        "  with torch.inference_mode():\n",
        "    test_pred = model_1(x_test)\n",
        "    test_loss = loss_fn(test_pred, y_test)\n",
        "\n",
        "  # print out what's happening\n",
        "  if epoch % 10 == 0:\n",
        "    print(f\"Epoch: {epoch} | Loss: {loss} | Test loss: {test_loss}\")\n",
        "\n",
        "\n"
      ],
      "metadata": {
        "colab": {
          "base_uri": "https://localhost:8080/"
        },
        "id": "pi-39G96jAQa",
        "outputId": "67daf529-d92c-43d2-bd71-f67d89d64dd6"
      },
      "execution_count": null,
      "outputs": [
        {
          "output_type": "stream",
          "name": "stdout",
          "text": [
            "Epoch: 0 | Loss: 0.5551779866218567 | Test loss: 0.5739762187004089\n",
            "Epoch: 10 | Loss: 0.439968079328537 | Test loss: 0.4392664134502411\n",
            "Epoch: 20 | Loss: 0.3247582018375397 | Test loss: 0.30455657839775085\n",
            "Epoch: 30 | Loss: 0.20954833924770355 | Test loss: 0.16984669864177704\n",
            "Epoch: 40 | Loss: 0.09433845430612564 | Test loss: 0.03513690456748009\n",
            "Epoch: 50 | Loss: 0.023886388167738914 | Test loss: 0.04784907028079033\n",
            "Epoch: 60 | Loss: 0.019956795498728752 | Test loss: 0.045803118497133255\n",
            "Epoch: 70 | Loss: 0.016517987474799156 | Test loss: 0.037530567497015\n",
            "Epoch: 80 | Loss: 0.013089174404740334 | Test loss: 0.02994490973651409\n",
            "Epoch: 90 | Loss: 0.009653178043663502 | Test loss: 0.02167237363755703\n",
            "Epoch: 100 | Loss: 0.006215683650225401 | Test loss: 0.014086711220443249\n",
            "Epoch: 110 | Loss: 0.00278724217787385 | Test loss: 0.005814164876937866\n",
            "Epoch: 120 | Loss: 0.0012645035749301314 | Test loss: 0.013801801018416882\n",
            "Epoch: 130 | Loss: 0.0012645035749301314 | Test loss: 0.013801801018416882\n",
            "Epoch: 140 | Loss: 0.0012645035749301314 | Test loss: 0.013801801018416882\n",
            "Epoch: 150 | Loss: 0.0012645035749301314 | Test loss: 0.013801801018416882\n",
            "Epoch: 160 | Loss: 0.0012645035749301314 | Test loss: 0.013801801018416882\n",
            "Epoch: 170 | Loss: 0.0012645035749301314 | Test loss: 0.013801801018416882\n",
            "Epoch: 180 | Loss: 0.0012645035749301314 | Test loss: 0.013801801018416882\n",
            "Epoch: 190 | Loss: 0.0012645035749301314 | Test loss: 0.013801801018416882\n"
          ]
        }
      ]
    },
    {
      "cell_type": "code",
      "source": [
        "model_1.state_dict()\n"
      ],
      "metadata": {
        "colab": {
          "base_uri": "https://localhost:8080/"
        },
        "id": "agO3WNGK-cni",
        "outputId": "84110f55-0aa5-47fb-ff49-d89e1b1c25c0"
      },
      "execution_count": null,
      "outputs": [
        {
          "output_type": "execute_result",
          "data": {
            "text/plain": [
              "OrderedDict([('linear_layer.weight', tensor([[0.6968]], device='cuda:0')),\n",
              "             ('linear_layer.bias', tensor([0.3025], device='cuda:0'))])"
            ]
          },
          "metadata": {},
          "execution_count": 83
        }
      ]
    },
    {
      "cell_type": "markdown",
      "source": [],
      "metadata": {
        "id": "3v82zLeviqms"
      }
    },
    {
      "cell_type": "code",
      "source": [
        "weight, bias"
      ],
      "metadata": {
        "id": "PpWlUuCjhbQx",
        "colab": {
          "base_uri": "https://localhost:8080/"
        },
        "outputId": "c8e55295-6ac5-4e96-9270-3b7db5ba6208"
      },
      "execution_count": null,
      "outputs": [
        {
          "output_type": "execute_result",
          "data": {
            "text/plain": [
              "(0.7, 0.3)"
            ]
          },
          "metadata": {},
          "execution_count": 84
        }
      ]
    },
    {
      "cell_type": "markdown",
      "source": [
        "### Making and Evaluating Predictions"
      ],
      "metadata": {
        "id": "h34K7sj0_r0A"
      }
    },
    {
      "cell_type": "code",
      "source": [
        "# Turn model into evaluation mode\n",
        "model_1.eval()\n",
        "\n",
        "# make predictions on thte test data\n",
        "\n",
        "with torch.inference_mode():\n",
        "  y_preds = model_1(x_test)\n",
        "\n",
        "y_preds"
      ],
      "metadata": {
        "colab": {
          "base_uri": "https://localhost:8080/"
        },
        "id": "_vX27hVt_Up_",
        "outputId": "05be9fd1-b4c2-46a6-9d89-0d94390cf4ce"
      },
      "execution_count": null,
      "outputs": [
        {
          "output_type": "execute_result",
          "data": {
            "text/plain": [
              "tensor([[0.8600],\n",
              "        [0.8739],\n",
              "        [0.8878],\n",
              "        [0.9018],\n",
              "        [0.9157],\n",
              "        [0.9296],\n",
              "        [0.9436],\n",
              "        [0.9575],\n",
              "        [0.9714],\n",
              "        [0.9854]], device='cuda:0')"
            ]
          },
          "metadata": {},
          "execution_count": 94
        }
      ]
    },
    {
      "cell_type": "code",
      "source": [
        "# check out model prediction visualy\n",
        "plot_predictions(predictions=y_preds)"
      ],
      "metadata": {
        "colab": {
          "base_uri": "https://localhost:8080/",
          "height": 834
        },
        "id": "F6Fr7ZJ9AVRI",
        "outputId": "84ad8de3-ed5b-4729-d2a8-a90a0eaeb905"
      },
      "execution_count": null,
      "outputs": [
        {
          "output_type": "error",
          "ename": "TypeError",
          "evalue": "can't convert cuda:0 device type tensor to numpy. Use Tensor.cpu() to copy the tensor to host memory first.",
          "traceback": [
            "\u001b[0;31m---------------------------------------------------------------------------\u001b[0m",
            "\u001b[0;31mTypeError\u001b[0m                                 Traceback (most recent call last)",
            "\u001b[0;32m<ipython-input-95-8191e1d0afd4>\u001b[0m in \u001b[0;36m<cell line: 0>\u001b[0;34m()\u001b[0m\n\u001b[1;32m      1\u001b[0m \u001b[0;31m# check out model prediction visualy\u001b[0m\u001b[0;34m\u001b[0m\u001b[0;34m\u001b[0m\u001b[0m\n\u001b[0;32m----> 2\u001b[0;31m \u001b[0mplot_predictions\u001b[0m\u001b[0;34m(\u001b[0m\u001b[0mpredictions\u001b[0m\u001b[0;34m=\u001b[0m\u001b[0my_preds\u001b[0m\u001b[0;34m)\u001b[0m\u001b[0;34m\u001b[0m\u001b[0;34m\u001b[0m\u001b[0m\n\u001b[0m",
            "\u001b[0;32m<ipython-input-49-d28268afd779>\u001b[0m in \u001b[0;36mplot_predictions\u001b[0;34m(train_data, train_labels, test_data, test_labels, predictions)\u001b[0m\n\u001b[1;32m     18\u001b[0m \u001b[0;31m# are there predictions\u001b[0m\u001b[0;34m\u001b[0m\u001b[0;34m\u001b[0m\u001b[0m\n\u001b[1;32m     19\u001b[0m   \u001b[0;32mif\u001b[0m \u001b[0mpredictions\u001b[0m \u001b[0;32mis\u001b[0m \u001b[0;32mnot\u001b[0m \u001b[0;32mNone\u001b[0m\u001b[0;34m:\u001b[0m\u001b[0;34m\u001b[0m\u001b[0;34m\u001b[0m\u001b[0m\n\u001b[0;32m---> 20\u001b[0;31m    \u001b[0mplt\u001b[0m\u001b[0;34m.\u001b[0m\u001b[0mscatter\u001b[0m\u001b[0;34m(\u001b[0m\u001b[0mtest_data\u001b[0m\u001b[0;34m,\u001b[0m \u001b[0mpredictions\u001b[0m\u001b[0;34m,\u001b[0m \u001b[0mc\u001b[0m\u001b[0;34m=\u001b[0m\u001b[0;34m\"r\"\u001b[0m\u001b[0;34m,\u001b[0m \u001b[0ms\u001b[0m\u001b[0;34m=\u001b[0m\u001b[0;36m4\u001b[0m\u001b[0;34m,\u001b[0m \u001b[0mlabel\u001b[0m\u001b[0;34m=\u001b[0m \u001b[0;34m\"predictions\"\u001b[0m\u001b[0;34m)\u001b[0m\u001b[0;34m\u001b[0m\u001b[0;34m\u001b[0m\u001b[0m\n\u001b[0m\u001b[1;32m     21\u001b[0m \u001b[0;34m\u001b[0m\u001b[0m\n\u001b[1;32m     22\u001b[0m    \u001b[0mplt\u001b[0m\u001b[0;34m.\u001b[0m\u001b[0mlegend\u001b[0m\u001b[0;34m(\u001b[0m\u001b[0mprop\u001b[0m\u001b[0;34m=\u001b[0m\u001b[0;34m{\u001b[0m\u001b[0;34m\"size\"\u001b[0m\u001b[0;34m:\u001b[0m \u001b[0;36m14\u001b[0m\u001b[0;34m}\u001b[0m\u001b[0;34m)\u001b[0m\u001b[0;34m;\u001b[0m\u001b[0;34m\u001b[0m\u001b[0;34m\u001b[0m\u001b[0m\n",
            "\u001b[0;32m/usr/local/lib/python3.11/dist-packages/matplotlib/_api/deprecation.py\u001b[0m in \u001b[0;36mwrapper\u001b[0;34m(*args, **kwargs)\u001b[0m\n\u001b[1;32m    451\u001b[0m                 \u001b[0;34m\"parameter will become keyword-only in %(removal)s.\"\u001b[0m\u001b[0;34m,\u001b[0m\u001b[0;34m\u001b[0m\u001b[0;34m\u001b[0m\u001b[0m\n\u001b[1;32m    452\u001b[0m                 name=name, obj_type=f\"parameter of {func.__name__}()\")\n\u001b[0;32m--> 453\u001b[0;31m         \u001b[0;32mreturn\u001b[0m \u001b[0mfunc\u001b[0m\u001b[0;34m(\u001b[0m\u001b[0;34m*\u001b[0m\u001b[0margs\u001b[0m\u001b[0;34m,\u001b[0m \u001b[0;34m**\u001b[0m\u001b[0mkwargs\u001b[0m\u001b[0;34m)\u001b[0m\u001b[0;34m\u001b[0m\u001b[0;34m\u001b[0m\u001b[0m\n\u001b[0m\u001b[1;32m    454\u001b[0m \u001b[0;34m\u001b[0m\u001b[0m\n\u001b[1;32m    455\u001b[0m     \u001b[0;31m# Don't modify *func*'s signature, as boilerplate.py needs it.\u001b[0m\u001b[0;34m\u001b[0m\u001b[0;34m\u001b[0m\u001b[0m\n",
            "\u001b[0;32m/usr/local/lib/python3.11/dist-packages/matplotlib/pyplot.py\u001b[0m in \u001b[0;36mscatter\u001b[0;34m(x, y, s, c, marker, cmap, norm, vmin, vmax, alpha, linewidths, edgecolors, colorizer, plotnonfinite, data, **kwargs)\u001b[0m\n\u001b[1;32m   3937\u001b[0m     \u001b[0;34m**\u001b[0m\u001b[0mkwargs\u001b[0m\u001b[0;34m,\u001b[0m\u001b[0;34m\u001b[0m\u001b[0;34m\u001b[0m\u001b[0m\n\u001b[1;32m   3938\u001b[0m ) -> PathCollection:\n\u001b[0;32m-> 3939\u001b[0;31m     __ret = gca().scatter(\n\u001b[0m\u001b[1;32m   3940\u001b[0m         \u001b[0mx\u001b[0m\u001b[0;34m,\u001b[0m\u001b[0;34m\u001b[0m\u001b[0;34m\u001b[0m\u001b[0m\n\u001b[1;32m   3941\u001b[0m         \u001b[0my\u001b[0m\u001b[0;34m,\u001b[0m\u001b[0;34m\u001b[0m\u001b[0;34m\u001b[0m\u001b[0m\n",
            "\u001b[0;32m/usr/local/lib/python3.11/dist-packages/matplotlib/_api/deprecation.py\u001b[0m in \u001b[0;36mwrapper\u001b[0;34m(*args, **kwargs)\u001b[0m\n\u001b[1;32m    451\u001b[0m                 \u001b[0;34m\"parameter will become keyword-only in %(removal)s.\"\u001b[0m\u001b[0;34m,\u001b[0m\u001b[0;34m\u001b[0m\u001b[0;34m\u001b[0m\u001b[0m\n\u001b[1;32m    452\u001b[0m                 name=name, obj_type=f\"parameter of {func.__name__}()\")\n\u001b[0;32m--> 453\u001b[0;31m         \u001b[0;32mreturn\u001b[0m \u001b[0mfunc\u001b[0m\u001b[0;34m(\u001b[0m\u001b[0;34m*\u001b[0m\u001b[0margs\u001b[0m\u001b[0;34m,\u001b[0m \u001b[0;34m**\u001b[0m\u001b[0mkwargs\u001b[0m\u001b[0;34m)\u001b[0m\u001b[0;34m\u001b[0m\u001b[0;34m\u001b[0m\u001b[0m\n\u001b[0m\u001b[1;32m    454\u001b[0m \u001b[0;34m\u001b[0m\u001b[0m\n\u001b[1;32m    455\u001b[0m     \u001b[0;31m# Don't modify *func*'s signature, as boilerplate.py needs it.\u001b[0m\u001b[0;34m\u001b[0m\u001b[0;34m\u001b[0m\u001b[0m\n",
            "\u001b[0;32m/usr/local/lib/python3.11/dist-packages/matplotlib/__init__.py\u001b[0m in \u001b[0;36minner\u001b[0;34m(ax, data, *args, **kwargs)\u001b[0m\n\u001b[1;32m   1519\u001b[0m     \u001b[0;32mdef\u001b[0m \u001b[0minner\u001b[0m\u001b[0;34m(\u001b[0m\u001b[0max\u001b[0m\u001b[0;34m,\u001b[0m \u001b[0;34m*\u001b[0m\u001b[0margs\u001b[0m\u001b[0;34m,\u001b[0m \u001b[0mdata\u001b[0m\u001b[0;34m=\u001b[0m\u001b[0;32mNone\u001b[0m\u001b[0;34m,\u001b[0m \u001b[0;34m**\u001b[0m\u001b[0mkwargs\u001b[0m\u001b[0;34m)\u001b[0m\u001b[0;34m:\u001b[0m\u001b[0;34m\u001b[0m\u001b[0;34m\u001b[0m\u001b[0m\n\u001b[1;32m   1520\u001b[0m         \u001b[0;32mif\u001b[0m \u001b[0mdata\u001b[0m \u001b[0;32mis\u001b[0m \u001b[0;32mNone\u001b[0m\u001b[0;34m:\u001b[0m\u001b[0;34m\u001b[0m\u001b[0;34m\u001b[0m\u001b[0m\n\u001b[0;32m-> 1521\u001b[0;31m             return func(\n\u001b[0m\u001b[1;32m   1522\u001b[0m                 \u001b[0max\u001b[0m\u001b[0;34m,\u001b[0m\u001b[0;34m\u001b[0m\u001b[0;34m\u001b[0m\u001b[0m\n\u001b[1;32m   1523\u001b[0m                 \u001b[0;34m*\u001b[0m\u001b[0mmap\u001b[0m\u001b[0;34m(\u001b[0m\u001b[0mcbook\u001b[0m\u001b[0;34m.\u001b[0m\u001b[0msanitize_sequence\u001b[0m\u001b[0;34m,\u001b[0m \u001b[0margs\u001b[0m\u001b[0;34m)\u001b[0m\u001b[0;34m,\u001b[0m\u001b[0;34m\u001b[0m\u001b[0;34m\u001b[0m\u001b[0m\n",
            "\u001b[0;32m/usr/local/lib/python3.11/dist-packages/matplotlib/axes/_axes.py\u001b[0m in \u001b[0;36mscatter\u001b[0;34m(self, x, y, s, c, marker, cmap, norm, vmin, vmax, alpha, linewidths, edgecolors, colorizer, plotnonfinite, **kwargs)\u001b[0m\n\u001b[1;32m   4892\u001b[0m         \u001b[0medgecolors\u001b[0m \u001b[0;34m=\u001b[0m \u001b[0mkwargs\u001b[0m\u001b[0;34m.\u001b[0m\u001b[0mpop\u001b[0m\u001b[0;34m(\u001b[0m\u001b[0;34m'edgecolor'\u001b[0m\u001b[0;34m,\u001b[0m \u001b[0;32mNone\u001b[0m\u001b[0;34m)\u001b[0m\u001b[0;34m\u001b[0m\u001b[0;34m\u001b[0m\u001b[0m\n\u001b[1;32m   4893\u001b[0m         \u001b[0;31m# Process **kwargs to handle aliases, conflicts with explicit kwargs:\u001b[0m\u001b[0;34m\u001b[0m\u001b[0;34m\u001b[0m\u001b[0m\n\u001b[0;32m-> 4894\u001b[0;31m         \u001b[0mx\u001b[0m\u001b[0;34m,\u001b[0m \u001b[0my\u001b[0m \u001b[0;34m=\u001b[0m \u001b[0mself\u001b[0m\u001b[0;34m.\u001b[0m\u001b[0m_process_unit_info\u001b[0m\u001b[0;34m(\u001b[0m\u001b[0;34m[\u001b[0m\u001b[0;34m(\u001b[0m\u001b[0;34m\"x\"\u001b[0m\u001b[0;34m,\u001b[0m \u001b[0mx\u001b[0m\u001b[0;34m)\u001b[0m\u001b[0;34m,\u001b[0m \u001b[0;34m(\u001b[0m\u001b[0;34m\"y\"\u001b[0m\u001b[0;34m,\u001b[0m \u001b[0my\u001b[0m\u001b[0;34m)\u001b[0m\u001b[0;34m]\u001b[0m\u001b[0;34m,\u001b[0m \u001b[0mkwargs\u001b[0m\u001b[0;34m)\u001b[0m\u001b[0;34m\u001b[0m\u001b[0;34m\u001b[0m\u001b[0m\n\u001b[0m\u001b[1;32m   4895\u001b[0m         \u001b[0;31m# np.ma.ravel yields an ndarray, not a masked array,\u001b[0m\u001b[0;34m\u001b[0m\u001b[0;34m\u001b[0m\u001b[0m\n\u001b[1;32m   4896\u001b[0m         \u001b[0;31m# unless its argument is a masked array.\u001b[0m\u001b[0;34m\u001b[0m\u001b[0;34m\u001b[0m\u001b[0m\n",
            "\u001b[0;32m/usr/local/lib/python3.11/dist-packages/matplotlib/axes/_base.py\u001b[0m in \u001b[0;36m_process_unit_info\u001b[0;34m(self, datasets, kwargs, convert)\u001b[0m\n\u001b[1;32m   2615\u001b[0m             \u001b[0;31m# Update from data if axis is already set but no unit is set yet.\u001b[0m\u001b[0;34m\u001b[0m\u001b[0;34m\u001b[0m\u001b[0m\n\u001b[1;32m   2616\u001b[0m             \u001b[0;32mif\u001b[0m \u001b[0maxis\u001b[0m \u001b[0;32mis\u001b[0m \u001b[0;32mnot\u001b[0m \u001b[0;32mNone\u001b[0m \u001b[0;32mand\u001b[0m \u001b[0mdata\u001b[0m \u001b[0;32mis\u001b[0m \u001b[0;32mnot\u001b[0m \u001b[0;32mNone\u001b[0m \u001b[0;32mand\u001b[0m \u001b[0;32mnot\u001b[0m \u001b[0maxis\u001b[0m\u001b[0;34m.\u001b[0m\u001b[0mhave_units\u001b[0m\u001b[0;34m(\u001b[0m\u001b[0;34m)\u001b[0m\u001b[0;34m:\u001b[0m\u001b[0;34m\u001b[0m\u001b[0;34m\u001b[0m\u001b[0m\n\u001b[0;32m-> 2617\u001b[0;31m                 \u001b[0maxis\u001b[0m\u001b[0;34m.\u001b[0m\u001b[0mupdate_units\u001b[0m\u001b[0;34m(\u001b[0m\u001b[0mdata\u001b[0m\u001b[0;34m)\u001b[0m\u001b[0;34m\u001b[0m\u001b[0;34m\u001b[0m\u001b[0m\n\u001b[0m\u001b[1;32m   2618\u001b[0m         \u001b[0;32mfor\u001b[0m \u001b[0maxis_name\u001b[0m\u001b[0;34m,\u001b[0m \u001b[0maxis\u001b[0m \u001b[0;32min\u001b[0m \u001b[0maxis_map\u001b[0m\u001b[0;34m.\u001b[0m\u001b[0mitems\u001b[0m\u001b[0;34m(\u001b[0m\u001b[0;34m)\u001b[0m\u001b[0;34m:\u001b[0m\u001b[0;34m\u001b[0m\u001b[0;34m\u001b[0m\u001b[0m\n\u001b[1;32m   2619\u001b[0m             \u001b[0;31m# Return if no axis is set.\u001b[0m\u001b[0;34m\u001b[0m\u001b[0;34m\u001b[0m\u001b[0m\n",
            "\u001b[0;32m/usr/local/lib/python3.11/dist-packages/matplotlib/axis.py\u001b[0m in \u001b[0;36mupdate_units\u001b[0;34m(self, data)\u001b[0m\n\u001b[1;32m   1754\u001b[0m         \"\"\"\n\u001b[1;32m   1755\u001b[0m         \u001b[0;32mif\u001b[0m \u001b[0;32mnot\u001b[0m \u001b[0mself\u001b[0m\u001b[0;34m.\u001b[0m\u001b[0m_converter_is_explicit\u001b[0m\u001b[0;34m:\u001b[0m\u001b[0;34m\u001b[0m\u001b[0;34m\u001b[0m\u001b[0m\n\u001b[0;32m-> 1756\u001b[0;31m             \u001b[0mconverter\u001b[0m \u001b[0;34m=\u001b[0m \u001b[0mmunits\u001b[0m\u001b[0;34m.\u001b[0m\u001b[0mregistry\u001b[0m\u001b[0;34m.\u001b[0m\u001b[0mget_converter\u001b[0m\u001b[0;34m(\u001b[0m\u001b[0mdata\u001b[0m\u001b[0;34m)\u001b[0m\u001b[0;34m\u001b[0m\u001b[0;34m\u001b[0m\u001b[0m\n\u001b[0m\u001b[1;32m   1757\u001b[0m         \u001b[0;32melse\u001b[0m\u001b[0;34m:\u001b[0m\u001b[0;34m\u001b[0m\u001b[0;34m\u001b[0m\u001b[0m\n\u001b[1;32m   1758\u001b[0m             \u001b[0mconverter\u001b[0m \u001b[0;34m=\u001b[0m \u001b[0mself\u001b[0m\u001b[0;34m.\u001b[0m\u001b[0m_converter\u001b[0m\u001b[0;34m\u001b[0m\u001b[0;34m\u001b[0m\u001b[0m\n",
            "\u001b[0;32m/usr/local/lib/python3.11/dist-packages/matplotlib/units.py\u001b[0m in \u001b[0;36mget_converter\u001b[0;34m(self, x)\u001b[0m\n\u001b[1;32m    165\u001b[0m         \u001b[0;34m\"\"\"Get the converter interface instance for *x*, or None.\"\"\"\u001b[0m\u001b[0;34m\u001b[0m\u001b[0;34m\u001b[0m\u001b[0m\n\u001b[1;32m    166\u001b[0m         \u001b[0;31m# Unpack in case of e.g. Pandas or xarray object\u001b[0m\u001b[0;34m\u001b[0m\u001b[0;34m\u001b[0m\u001b[0m\n\u001b[0;32m--> 167\u001b[0;31m         \u001b[0mx\u001b[0m \u001b[0;34m=\u001b[0m \u001b[0mcbook\u001b[0m\u001b[0;34m.\u001b[0m\u001b[0m_unpack_to_numpy\u001b[0m\u001b[0;34m(\u001b[0m\u001b[0mx\u001b[0m\u001b[0;34m)\u001b[0m\u001b[0;34m\u001b[0m\u001b[0;34m\u001b[0m\u001b[0m\n\u001b[0m\u001b[1;32m    168\u001b[0m \u001b[0;34m\u001b[0m\u001b[0m\n\u001b[1;32m    169\u001b[0m         \u001b[0;32mif\u001b[0m \u001b[0misinstance\u001b[0m\u001b[0;34m(\u001b[0m\u001b[0mx\u001b[0m\u001b[0;34m,\u001b[0m \u001b[0mnp\u001b[0m\u001b[0;34m.\u001b[0m\u001b[0mndarray\u001b[0m\u001b[0;34m)\u001b[0m\u001b[0;34m:\u001b[0m\u001b[0;34m\u001b[0m\u001b[0;34m\u001b[0m\u001b[0m\n",
            "\u001b[0;32m/usr/local/lib/python3.11/dist-packages/matplotlib/cbook.py\u001b[0m in \u001b[0;36m_unpack_to_numpy\u001b[0;34m(x)\u001b[0m\n\u001b[1;32m   2359\u001b[0m         \u001b[0;31m# https://numpy.org/devdocs/user/basics.interoperability.html#using-arbitrary-objects-in-numpy\u001b[0m\u001b[0;34m\u001b[0m\u001b[0;34m\u001b[0m\u001b[0m\n\u001b[1;32m   2360\u001b[0m         \u001b[0;31m# therefore, let arrays do better if they can\u001b[0m\u001b[0;34m\u001b[0m\u001b[0;34m\u001b[0m\u001b[0m\n\u001b[0;32m-> 2361\u001b[0;31m         \u001b[0mxtmp\u001b[0m \u001b[0;34m=\u001b[0m \u001b[0mnp\u001b[0m\u001b[0;34m.\u001b[0m\u001b[0masarray\u001b[0m\u001b[0;34m(\u001b[0m\u001b[0mx\u001b[0m\u001b[0;34m)\u001b[0m\u001b[0;34m\u001b[0m\u001b[0;34m\u001b[0m\u001b[0m\n\u001b[0m\u001b[1;32m   2362\u001b[0m \u001b[0;34m\u001b[0m\u001b[0m\n\u001b[1;32m   2363\u001b[0m         \u001b[0;31m# In case np.asarray method does not return a numpy array in future\u001b[0m\u001b[0;34m\u001b[0m\u001b[0;34m\u001b[0m\u001b[0m\n",
            "\u001b[0;32m/usr/local/lib/python3.11/dist-packages/torch/_tensor.py\u001b[0m in \u001b[0;36m__array__\u001b[0;34m(self, dtype)\u001b[0m\n\u001b[1;32m   1192\u001b[0m             \u001b[0;32mreturn\u001b[0m \u001b[0mhandle_torch_function\u001b[0m\u001b[0;34m(\u001b[0m\u001b[0mTensor\u001b[0m\u001b[0;34m.\u001b[0m\u001b[0m__array__\u001b[0m\u001b[0;34m,\u001b[0m \u001b[0;34m(\u001b[0m\u001b[0mself\u001b[0m\u001b[0;34m,\u001b[0m\u001b[0;34m)\u001b[0m\u001b[0;34m,\u001b[0m \u001b[0mself\u001b[0m\u001b[0;34m,\u001b[0m \u001b[0mdtype\u001b[0m\u001b[0;34m=\u001b[0m\u001b[0mdtype\u001b[0m\u001b[0;34m)\u001b[0m\u001b[0;34m\u001b[0m\u001b[0;34m\u001b[0m\u001b[0m\n\u001b[1;32m   1193\u001b[0m         \u001b[0;32mif\u001b[0m \u001b[0mdtype\u001b[0m \u001b[0;32mis\u001b[0m \u001b[0;32mNone\u001b[0m\u001b[0;34m:\u001b[0m\u001b[0;34m\u001b[0m\u001b[0;34m\u001b[0m\u001b[0m\n\u001b[0;32m-> 1194\u001b[0;31m             \u001b[0;32mreturn\u001b[0m \u001b[0mself\u001b[0m\u001b[0;34m.\u001b[0m\u001b[0mnumpy\u001b[0m\u001b[0;34m(\u001b[0m\u001b[0;34m)\u001b[0m\u001b[0;34m\u001b[0m\u001b[0;34m\u001b[0m\u001b[0m\n\u001b[0m\u001b[1;32m   1195\u001b[0m         \u001b[0;32melse\u001b[0m\u001b[0;34m:\u001b[0m\u001b[0;34m\u001b[0m\u001b[0;34m\u001b[0m\u001b[0m\n\u001b[1;32m   1196\u001b[0m             \u001b[0;32mreturn\u001b[0m \u001b[0mself\u001b[0m\u001b[0;34m.\u001b[0m\u001b[0mnumpy\u001b[0m\u001b[0;34m(\u001b[0m\u001b[0;34m)\u001b[0m\u001b[0;34m.\u001b[0m\u001b[0mastype\u001b[0m\u001b[0;34m(\u001b[0m\u001b[0mdtype\u001b[0m\u001b[0;34m,\u001b[0m \u001b[0mcopy\u001b[0m\u001b[0;34m=\u001b[0m\u001b[0;32mFalse\u001b[0m\u001b[0;34m)\u001b[0m\u001b[0;34m\u001b[0m\u001b[0;34m\u001b[0m\u001b[0m\n",
            "\u001b[0;31mTypeError\u001b[0m: can't convert cuda:0 device type tensor to numpy. Use Tensor.cpu() to copy the tensor to host memory first."
          ]
        },
        {
          "output_type": "display_data",
          "data": {
            "text/plain": [
              "<Figure size 1000x700 with 1 Axes>"
            ],
            "image/png": "[encoded data removed]"
          },
          "metadata": {}
        }
      ]
    },
    {
      "cell_type": "markdown",
      "source": [
        "## 6.5.   Saving and Loading Trained Model."
      ],
      "metadata": {
        "id": "z_bK4w3_A7Af"
      }
    },
    {
      "cell_type": "code",
      "source": [
        "from pathlib import Path\n",
        "# 1. create model directory\n",
        "MODEL_PATH = Path(\"models\")\n",
        "MODEL_PATH.mkdir(parents=True, exist_ok=True)\n",
        "# 2. create model save path\n",
        "MODEL_NAME = \"01_pytorch_workflow_model_1.pth\"\n",
        "MODEL_SAVE_PATH = MODEL_PATH / MODEL_NAME\n",
        "\n",
        "# 3. Save the model state dict\n",
        "print(f\" Saving model to : {MODEL_SAVE_PATH}\")\n",
        "torch.save(obj=model_1.state_dict(),\n",
        "           f=MODEL_SAVE_PATH)\n",
        "\n"
      ],
      "metadata": {
        "colab": {
          "base_uri": "https://localhost:8080/"
        },
        "id": "CKjKYN0JAzLb",
        "outputId": "97b9b23e-8e67-468c-8ed1-ab95f121add2"
      },
      "execution_count": null,
      "outputs": [
        {
          "output_type": "stream",
          "name": "stdout",
          "text": [
            " Saving model to : models/01_pytorch_workflow_model_1.pth\n"
          ]
        }
      ]
    },
    {
      "cell_type": "code",
      "source": [
        "model_1.state_dict()"
      ],
      "metadata": {
        "colab": {
          "base_uri": "https://localhost:8080/"
        },
        "id": "THjHIN7UHrhp",
        "outputId": "91e5f644-433b-4c9d-b97d-fc399c96e362"
      },
      "execution_count": null,
      "outputs": [
        {
          "output_type": "execute_result",
          "data": {
            "text/plain": [
              "OrderedDict([('linear_layer.weight', tensor([[0.6968]], device='cuda:0')),\n",
              "             ('linear_layer.bias', tensor([0.3025], device='cuda:0'))])"
            ]
          },
          "metadata": {},
          "execution_count": 88
        }
      ]
    },
    {
      "cell_type": "code",
      "source": [
        "# Load a Pytorch\n",
        "# create a new instannces of linear repression mod3l v2\n",
        "loaded_model_1 = LinearRegressionModelV2()\n",
        "\n",
        "# load the saved model_1 state_dict\n",
        "loaded_model_1.load_state_dict(torch.load(MODEL_SAVE_PATH))\n",
        "# put the loaded model to devicec\n",
        "loaded_model_1.to(device)\n"
      ],
      "metadata": {
        "colab": {
          "base_uri": "https://localhost:8080/"
        },
        "id": "aMDTLwr_Ia-T",
        "outputId": "5e178c9a-4eb7-4708-a4e7-facd0ae2fe13"
      },
      "execution_count": null,
      "outputs": [
        {
          "output_type": "execute_result",
          "data": {
            "text/plain": [
              "LinearRegressionModelV2(\n",
              "  (linear_layer): Linear(in_features=1, out_features=1, bias=True)\n",
              ")"
            ]
          },
          "metadata": {},
          "execution_count": 89
        }
      ]
    },
    {
      "cell_type": "code",
      "source": [
        "loaded_model_1.to(device)"
      ],
      "metadata": {
        "colab": {
          "base_uri": "https://localhost:8080/"
        },
        "id": "H2U0HaTqJ0xH",
        "outputId": "d8fbc53a-bf41-4884-e96a-73d8997540d4"
      },
      "execution_count": null,
      "outputs": [
        {
          "output_type": "execute_result",
          "data": {
            "text/plain": [
              "LinearRegressionModelV2(\n",
              "  (linear_layer): Linear(in_features=1, out_features=1, bias=True)\n",
              ")"
            ]
          },
          "metadata": {},
          "execution_count": 90
        }
      ]
    },
    {
      "cell_type": "code",
      "source": [
        "next(loaded_model_1.parameters()).device"
      ],
      "metadata": {
        "colab": {
          "base_uri": "https://localhost:8080/"
        },
        "id": "ZeDek_h5Jc4v",
        "outputId": "5b9a925d-68f3-4e10-c2af-619348f5a09e"
      },
      "execution_count": null,
      "outputs": [
        {
          "output_type": "execute_result",
          "data": {
            "text/plain": [
              "device(type='cuda', index=0)"
            ]
          },
          "metadata": {},
          "execution_count": 91
        }
      ]
    },
    {
      "cell_type": "code",
      "source": [
        "loaded_model_1.state_dict()"
      ],
      "metadata": {
        "colab": {
          "base_uri": "https://localhost:8080/"
        },
        "id": "L69i3mhXJRll",
        "outputId": "00f327c9-4257-4e41-bc5e-be74e9e2c9d5"
      },
      "execution_count": null,
      "outputs": [
        {
          "output_type": "execute_result",
          "data": {
            "text/plain": [
              "OrderedDict([('linear_layer.weight', tensor([[0.6968]], device='cuda:0')),\n",
              "             ('linear_layer.bias', tensor([0.3025], device='cuda:0'))])"
            ]
          },
          "metadata": {},
          "execution_count": 92
        }
      ]
    },
    {
      "cell_type": "code",
      "source": [],
      "metadata": {
        "id": "i8B8rOQy3z3Q"
      },
      "execution_count": null,
      "outputs": []
    }
  ]
}